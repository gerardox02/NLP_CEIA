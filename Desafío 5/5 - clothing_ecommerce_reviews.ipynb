{
 "cells": [
  {
   "cell_type": "markdown",
   "metadata": {
    "id": "kBLpTr7plguX"
   },
   "source": [
    "<img src=\"https://github.com/hernancontigiani/ceia_memorias_especializacion/raw/master/Figures/logoFIUBA.jpg\" width=\"500\" align=\"center\">\n",
    "\n",
    "\n",
    "# Procesamiento de lenguaje natural\n",
    "## Sentiment analysis con Embeddings + LSTM"
   ]
  },
  {
   "cell_type": "markdown",
   "metadata": {
    "id": "9W6nuajhlqZD"
   },
   "source": [
    "### Objetivo\n",
    "El objetivo es utilizar las críticas de compradores de ropa para que el sistema determine la evaluación del comprador y su crítica (cuantas estrellas le asigna al producto)."
   ]
  },
  {
   "cell_type": "code",
   "execution_count": 2,
   "metadata": {
    "id": "hCpOVzJdl8_p"
   },
   "outputs": [],
   "source": [
    "import numpy as np\n",
    "import random\n",
    "import io\n",
    "import pickle\n",
    "import pandas as pd\n",
    "\n",
    "import matplotlib.pyplot as plt\n",
    "import seaborn as sns\n",
    "\n",
    "import tensorflow as tf\n",
    "from tensorflow import keras\n",
    "from tensorflow.keras import layers\n",
    "\n",
    "from tensorflow.keras.utils import to_categorical\n",
    "from tensorflow.keras.utils import pad_sequences\n",
    "from keras.models import Sequential\n",
    "from keras.layers import Dense\n",
    "from keras.layers import LSTM\n",
    "from keras.layers import Embedding\n",
    "from keras.callbacks import EarlyStopping"
   ]
  },
  {
   "cell_type": "markdown",
   "metadata": {
    "id": "8UPeRkrAmbF3"
   },
   "source": [
    "### Datos\n",
    "Utilizaremos como dataset críticas de compradores de ropa (eCommerce) los cuales puntuaron a cada prenda con un puntaje de 1 a 5 estrellas.\\\n",
    "Referencia del dataset: [LINK](https://www.kaggle.com/nicapotato/womens-ecommerce-clothing-reviews/version/1)"
   ]
  },
  {
   "cell_type": "code",
   "execution_count": 3,
   "metadata": {
    "colab": {
     "base_uri": "https://localhost:8080/",
     "height": 310
    },
    "id": "o-SV1P3dnD1J",
    "outputId": "b14efd65-7b59-4116-dd0a-d0bc3872aac8"
   },
   "outputs": [
    {
     "data": {
      "text/html": [
       "<div>\n",
       "<style scoped>\n",
       "    .dataframe tbody tr th:only-of-type {\n",
       "        vertical-align: middle;\n",
       "    }\n",
       "\n",
       "    .dataframe tbody tr th {\n",
       "        vertical-align: top;\n",
       "    }\n",
       "\n",
       "    .dataframe thead th {\n",
       "        text-align: right;\n",
       "    }\n",
       "</style>\n",
       "<table border=\"1\" class=\"dataframe\">\n",
       "  <thead>\n",
       "    <tr style=\"text-align: right;\">\n",
       "      <th></th>\n",
       "      <th>Clothing ID</th>\n",
       "      <th>Age</th>\n",
       "      <th>Title</th>\n",
       "      <th>Review Text</th>\n",
       "      <th>Rating</th>\n",
       "      <th>Recommended IND</th>\n",
       "      <th>Positive Feedback Count</th>\n",
       "      <th>Division Name</th>\n",
       "      <th>Department Name</th>\n",
       "      <th>Class Name</th>\n",
       "    </tr>\n",
       "  </thead>\n",
       "  <tbody>\n",
       "    <tr>\n",
       "      <th>0</th>\n",
       "      <td>767</td>\n",
       "      <td>33</td>\n",
       "      <td>NaN</td>\n",
       "      <td>Absolutely wonderful - silky and sexy and comf...</td>\n",
       "      <td>4</td>\n",
       "      <td>1</td>\n",
       "      <td>0</td>\n",
       "      <td>Initmates</td>\n",
       "      <td>Intimate</td>\n",
       "      <td>Intimates</td>\n",
       "    </tr>\n",
       "    <tr>\n",
       "      <th>1</th>\n",
       "      <td>1080</td>\n",
       "      <td>34</td>\n",
       "      <td>NaN</td>\n",
       "      <td>Love this dress!  it's sooo pretty.  i happene...</td>\n",
       "      <td>5</td>\n",
       "      <td>1</td>\n",
       "      <td>4</td>\n",
       "      <td>General</td>\n",
       "      <td>Dresses</td>\n",
       "      <td>Dresses</td>\n",
       "    </tr>\n",
       "    <tr>\n",
       "      <th>2</th>\n",
       "      <td>1077</td>\n",
       "      <td>60</td>\n",
       "      <td>Some major design flaws</td>\n",
       "      <td>I had such high hopes for this dress and reall...</td>\n",
       "      <td>3</td>\n",
       "      <td>0</td>\n",
       "      <td>0</td>\n",
       "      <td>General</td>\n",
       "      <td>Dresses</td>\n",
       "      <td>Dresses</td>\n",
       "    </tr>\n",
       "    <tr>\n",
       "      <th>3</th>\n",
       "      <td>1049</td>\n",
       "      <td>50</td>\n",
       "      <td>My favorite buy!</td>\n",
       "      <td>I love, love, love this jumpsuit. it's fun, fl...</td>\n",
       "      <td>5</td>\n",
       "      <td>1</td>\n",
       "      <td>0</td>\n",
       "      <td>General Petite</td>\n",
       "      <td>Bottoms</td>\n",
       "      <td>Pants</td>\n",
       "    </tr>\n",
       "    <tr>\n",
       "      <th>4</th>\n",
       "      <td>847</td>\n",
       "      <td>47</td>\n",
       "      <td>Flattering shirt</td>\n",
       "      <td>This shirt is very flattering to all due to th...</td>\n",
       "      <td>5</td>\n",
       "      <td>1</td>\n",
       "      <td>6</td>\n",
       "      <td>General</td>\n",
       "      <td>Tops</td>\n",
       "      <td>Blouses</td>\n",
       "    </tr>\n",
       "  </tbody>\n",
       "</table>\n",
       "</div>"
      ],
      "text/plain": [
       "   Clothing ID  Age                    Title  \\\n",
       "0          767   33                      NaN   \n",
       "1         1080   34                      NaN   \n",
       "2         1077   60  Some major design flaws   \n",
       "3         1049   50         My favorite buy!   \n",
       "4          847   47         Flattering shirt   \n",
       "\n",
       "                                         Review Text  Rating  Recommended IND  \\\n",
       "0  Absolutely wonderful - silky and sexy and comf...       4                1   \n",
       "1  Love this dress!  it's sooo pretty.  i happene...       5                1   \n",
       "2  I had such high hopes for this dress and reall...       3                0   \n",
       "3  I love, love, love this jumpsuit. it's fun, fl...       5                1   \n",
       "4  This shirt is very flattering to all due to th...       5                1   \n",
       "\n",
       "   Positive Feedback Count   Division Name Department Name Class Name  \n",
       "0                        0       Initmates        Intimate  Intimates  \n",
       "1                        4         General         Dresses    Dresses  \n",
       "2                        0         General         Dresses    Dresses  \n",
       "3                        0  General Petite         Bottoms      Pants  \n",
       "4                        6         General            Tops    Blouses  "
      ]
     },
     "execution_count": 3,
     "metadata": {},
     "output_type": "execute_result"
    }
   ],
   "source": [
    "# Armar el dataset\n",
    "df = pd.read_csv('clothing_ecommerce_reviews.csv')\n",
    "df.drop(columns = ['Unnamed: 0'], inplace = True)\n",
    "df.head()"
   ]
  },
  {
   "cell_type": "markdown",
   "metadata": {
    "id": "q-OwSePKm-FK"
   },
   "source": [
    "### 1 - Limpieza de datos\n",
    "Alumno:\n",
    "- Del dataset unicamente utilizar las columnas \"Review Text\" y \"Rating.\n",
    "- Tranformar el rating 1-5 a una escala numérica de 0 a 4.\n",
    "\n"
   ]
  },
  {
   "cell_type": "code",
   "execution_count": 4,
   "metadata": {
    "colab": {
     "base_uri": "https://localhost:8080/",
     "height": 206
    },
    "id": "-hc7-AmYnPC3",
    "outputId": "7272f41a-bef2-4798-d168-5cf9731d4128"
   },
   "outputs": [
    {
     "data": {
      "text/html": [
       "<div>\n",
       "<style scoped>\n",
       "    .dataframe tbody tr th:only-of-type {\n",
       "        vertical-align: middle;\n",
       "    }\n",
       "\n",
       "    .dataframe tbody tr th {\n",
       "        vertical-align: top;\n",
       "    }\n",
       "\n",
       "    .dataframe thead th {\n",
       "        text-align: right;\n",
       "    }\n",
       "</style>\n",
       "<table border=\"1\" class=\"dataframe\">\n",
       "  <thead>\n",
       "    <tr style=\"text-align: right;\">\n",
       "      <th></th>\n",
       "      <th>Review Text</th>\n",
       "      <th>Rating</th>\n",
       "    </tr>\n",
       "  </thead>\n",
       "  <tbody>\n",
       "    <tr>\n",
       "      <th>0</th>\n",
       "      <td>Absolutely wonderful - silky and sexy and comf...</td>\n",
       "      <td>3</td>\n",
       "    </tr>\n",
       "    <tr>\n",
       "      <th>1</th>\n",
       "      <td>Love this dress!  it's sooo pretty.  i happene...</td>\n",
       "      <td>4</td>\n",
       "    </tr>\n",
       "    <tr>\n",
       "      <th>2</th>\n",
       "      <td>I had such high hopes for this dress and reall...</td>\n",
       "      <td>2</td>\n",
       "    </tr>\n",
       "    <tr>\n",
       "      <th>3</th>\n",
       "      <td>I love, love, love this jumpsuit. it's fun, fl...</td>\n",
       "      <td>4</td>\n",
       "    </tr>\n",
       "    <tr>\n",
       "      <th>4</th>\n",
       "      <td>This shirt is very flattering to all due to th...</td>\n",
       "      <td>4</td>\n",
       "    </tr>\n",
       "  </tbody>\n",
       "</table>\n",
       "</div>"
      ],
      "text/plain": [
       "                                         Review Text  Rating\n",
       "0  Absolutely wonderful - silky and sexy and comf...       3\n",
       "1  Love this dress!  it's sooo pretty.  i happene...       4\n",
       "2  I had such high hopes for this dress and reall...       2\n",
       "3  I love, love, love this jumpsuit. it's fun, fl...       4\n",
       "4  This shirt is very flattering to all due to th...       4"
      ]
     },
     "execution_count": 4,
     "metadata": {},
     "output_type": "execute_result"
    }
   ],
   "source": [
    "df_reviews = df.loc[:, ['Review Text', 'Rating']].dropna()\n",
    "df_reviews['Rating'] = df_reviews['Rating'] - 1\n",
    "df_reviews.head()"
   ]
  },
  {
   "cell_type": "code",
   "execution_count": 4,
   "metadata": {
    "colab": {
     "base_uri": "https://localhost:8080/",
     "height": 444
    },
    "id": "sZtvASVOn3ty",
    "outputId": "7c815dad-2e61-48f6-d72c-b127b06193bd"
   },
   "outputs": [
    {
     "data": {
      "image/png": "[encoded data removed]",
      "text/plain": [
       "<Figure size 640x480 with 1 Axes>"
      ]
     },
     "metadata": {},
     "output_type": "display_data"
    }
   ],
   "source": [
    "# Alumno: Observar como está distribuido el dataset respecto a la columna Rating\n",
    "# es decir, observar que tan balanceado se encuentra respecot a cada clase\n",
    "df_reviews[\"Rating\"].value_counts().plot(kind=\"bar\")\n",
    "plt.xlabel(\"Rating\"), plt.ylabel(\"Cantidad\")\n",
    "plt.show()"
   ]
  },
  {
   "cell_type": "code",
   "execution_count": 5,
   "metadata": {
    "id": "gVJ_RVi4o1h3"
   },
   "outputs": [],
   "source": [
    "# Alumno: tomar la columna de las review y almacenarlo todo en un vector numpy de reviews\n",
    "vec_reviews = np.array(df_reviews['Review Text'].values)"
   ]
  },
  {
   "cell_type": "code",
   "execution_count": 6,
   "metadata": {
    "colab": {
     "base_uri": "https://localhost:8080/"
    },
    "id": "4nT5Un_co65Q",
    "outputId": "efb2ee2a-727e-40d8-9c63-31d755d8ba8f"
   },
   "outputs": [
    {
     "data": {
      "text/plain": [
       "22641"
      ]
     },
     "execution_count": 6,
     "metadata": {},
     "output_type": "execute_result"
    }
   ],
   "source": [
    "# Alumno: Cuantas reviews (rows) hay para evaluar?\n",
    "vec_reviews.size"
   ]
  },
  {
   "cell_type": "code",
   "execution_count": 7,
   "metadata": {
    "colab": {
     "base_uri": "https://localhost:8080/",
     "height": 157
    },
    "id": "HP5uN9tqpHu_",
    "outputId": "25199236-f15b-4542-cefb-3197e2e6e8b6"
   },
   "outputs": [
    {
     "data": {
      "application/vnd.google.colaboratory.intrinsic+json": {
       "type": "string"
      },
      "text/plain": [
       "'Absolutely wonderful - silky and sexy and comfortable Love this dress!  it\\'s sooo pretty.  i happened to find it in a store, and i\\'m glad i did bc i never would have ordered it online bc it\\'s petite.  i bought a petite and am 5\\'8\".  i love the length on me- hits just a little below the knee.  would definitely be a true midi on someone who is truly petite. I had such high hopes for this dress and really wanted it to work for me. i initially ordered the petite small (my usual size) but i found this to be outrageously small. so small in fact that i could not zip it up! i reordered it in petite medium, which was just ok. overall, the top half was comfortable and fit nicely, but the bottom half had a very tight under layer and several somewhat cheap (net) over layers. imo, a major design flaw was the net over layer sewn directly into the zipper - it c I love, love, love this jumpsuit. it\\'s fun, flirty, and fabulous! every time i wear it, i get nothing but great compliments! This shirt is very flattering to all due to the adjustable front tie. it is the perfect length to wear with leggings and it is sleeveless so it pairs well with any cardigan. love this shirt!!! I love tracy reese dresses, but this one is not for the very petite. i am just under 5 feet tall and usually wear a 0p in this brand. this dress was very pretty out of the package but its a lot of dress. the skirt is long and very full so it overwhelmed my small frame. not a stranger to alterations, shortening and narrowing the skirt would take away from the embellishment of the garment. i love the color and the idea of the style but it just did not work on me. i returned this dress. I aded this in my basket at hte last mintue to see what it would look like in person. (store pick up). i went with teh darkler color only because i am so pale :-) hte color is really gorgeous, and turns out it mathced everythiing i was trying on with it prefectly. it is a little baggy on me and hte xs is hte msallet size (bummer, no petite). i decided to jkeep it though, because as i said, it matvehd everything. my ejans, pants, and the 3 skirts i waas trying on (of which i ]kept all ) oops. I ordered this in carbon for store pick up, and had a ton of stuff (as always) to try on and used this top to pair (skirts and pants). everything went with it. the color is really nice charcoal with shimmer, and went well with pencil skirts, flare pants, etc. my only compaint is it is a bit big, sleeves are long and it doesn\\'t go in petite. also a bit loose for me, but no xxs... so i kept it and wil ldecide later since the light color is already sold out in hte smallest size... I love this dress. i usually get an xs but it runs a little snug in bust so i ordered up a size. very flattering and feminine with the usual retailer flair for style. I\\'m 5\"5\\' and 125 lbs. i ordered the s petite to make sure the length wasn\\'t too long. i typically wear an xs regular in retailer dresses. if you\\'re less busty (34b cup or smaller), a s pe'"
      ]
     },
     "execution_count": 7,
     "metadata": {},
     "output_type": "execute_result"
    }
   ],
   "source": [
    "# Alumno: Concatenar todas las reviews para armar el corpus\n",
    "corpus = ' '.join(vec_reviews)\n",
    "corpus[:3000]"
   ]
  },
  {
   "cell_type": "code",
   "execution_count": 8,
   "metadata": {
    "colab": {
     "base_uri": "https://localhost:8080/"
    },
    "id": "FEzmePgdpf74",
    "outputId": "00e7504d-2a6b-458c-930d-ae7ee774b478"
   },
   "outputs": [
    {
     "data": {
      "text/plain": [
       "7011643"
      ]
     },
     "execution_count": 8,
     "metadata": {},
     "output_type": "execute_result"
    }
   ],
   "source": [
    "# Alumno: ¿Cuál es la longitud de ese corpus?\n",
    "len(corpus)"
   ]
  },
  {
   "cell_type": "code",
   "execution_count": 9,
   "metadata": {
    "id": "MYeJLdDmpvOe"
   },
   "outputs": [],
   "source": [
    "# Alumno: Utilizar \"text_to_word_sequence\" para separar las palabras en tokens\n",
    "# recordar que text_to_word_sequence automaticamente quita los signos de puntuacion y pasa el texto a lowercase\n",
    "from keras.preprocessing.text import text_to_word_sequence\n",
    "\n",
    "tokens = text_to_word_sequence(corpus)"
   ]
  },
  {
   "cell_type": "code",
   "execution_count": 10,
   "metadata": {
    "colab": {
     "base_uri": "https://localhost:8080/"
    },
    "id": "M6L-fnWAp_lA",
    "outputId": "e0c0d8dc-9f59-485d-fb99-6807cc093963"
   },
   "outputs": [
    {
     "data": {
      "text/plain": [
       "['absolutely',\n",
       " 'wonderful',\n",
       " 'silky',\n",
       " 'and',\n",
       " 'sexy',\n",
       " 'and',\n",
       " 'comfortable',\n",
       " 'love',\n",
       " 'this',\n",
       " 'dress',\n",
       " \"it's\",\n",
       " 'sooo',\n",
       " 'pretty',\n",
       " 'i',\n",
       " 'happened',\n",
       " 'to',\n",
       " 'find',\n",
       " 'it',\n",
       " 'in',\n",
       " 'a']"
      ]
     },
     "execution_count": 10,
     "metadata": {},
     "output_type": "execute_result"
    }
   ],
   "source": [
    "# Alumno: Dar un vistazo a los primeros 20 tokens/palabras\n",
    "tokens[:20]"
   ]
  },
  {
   "cell_type": "code",
   "execution_count": 11,
   "metadata": {
    "colab": {
     "base_uri": "https://localhost:8080/"
    },
    "id": "-8QgwwMUqG0d",
    "outputId": "fd3e824d-fe47-46fe-94a7-eeb7924b8fd3"
   },
   "outputs": [
    {
     "data": {
      "text/plain": [
       "1372203"
      ]
     },
     "execution_count": 11,
     "metadata": {},
     "output_type": "execute_result"
    }
   ],
   "source": [
    "# Alumno: ¿Cuántos tokens/palabras hay?\n",
    "len(tokens)"
   ]
  },
  {
   "cell_type": "code",
   "execution_count": 12,
   "metadata": {
    "id": "TFukNZdOsZ8_"
   },
   "outputs": [],
   "source": [
    "# Alumno: Tokenizar las palabras con el Tokenizer de Keras\n",
    "# Definir una máxima cantidad de palabras a utilizar:\n",
    "# num_words --> the maximum number of words to keep, based on word frequency.\n",
    "# Only the most common num_words-1 words will be kept.\n",
    "from keras.preprocessing.text import Tokenizer\n",
    "num_words = 2000\n",
    "vocab_size = num_words\n",
    "\n",
    "tok = Tokenizer(num_words=vocab_size)\n",
    "tok.fit_on_texts(tokens)"
   ]
  },
  {
   "cell_type": "code",
   "execution_count": 13,
   "metadata": {
    "colab": {
     "base_uri": "https://localhost:8080/"
    },
    "id": "JnR1tlqZy94X",
    "outputId": "62d95985-feaf-4970-9d44-090815e31a80"
   },
   "outputs": [
    {
     "data": {
      "text/plain": [
       "14847"
      ]
     },
     "execution_count": 13,
     "metadata": {},
     "output_type": "execute_result"
    }
   ],
   "source": [
    "# Alumno: Obtener el diccionario de palabra (word) a índice\n",
    "# y observar la cantidad total del vocabulario\n",
    "len(tok.word_index)"
   ]
  },
  {
   "cell_type": "code",
   "execution_count": 14,
   "metadata": {
    "id": "AvWzzSretQXf"
   },
   "outputs": [],
   "source": [
    "# Alumno: Convertir las palabras/tokens a números\n",
    "sequences = tok.texts_to_sequences(vec_reviews)"
   ]
  },
  {
   "cell_type": "code",
   "execution_count": 15,
   "metadata": {
    "colab": {
     "base_uri": "https://localhost:8080/"
    },
    "id": "za73M5SRtbrP",
    "outputId": "c41792bd-36eb-4972-e888-2a83b6d48589"
   },
   "outputs": [
    {
     "data": {
      "text/plain": [
       "115"
      ]
     },
     "execution_count": 15,
     "metadata": {},
     "output_type": "execute_result"
    }
   ],
   "source": [
    "# Alumno: Determinar cual es la oración más larga\n",
    "maxlen = max([len(x) for x in sequences])\n",
    "maxlen"
   ]
  },
  {
   "cell_type": "code",
   "execution_count": 16,
   "metadata": {
    "id": "oCkO9Wc9tls1"
   },
   "outputs": [],
   "source": [
    "# Alumno: Realizar padding de las sentencias al mismo tamaño\n",
    "# tomando de referencia la máxima sentencia\n",
    "from tensorflow.keras.utils import pad_sequences\n",
    "padded = pad_sequences(sequences, padding='pre', maxlen=maxlen)"
   ]
  },
  {
   "cell_type": "code",
   "execution_count": 17,
   "metadata": {
    "colab": {
     "base_uri": "https://localhost:8080/"
    },
    "id": "kGHHabVdt_aa",
    "outputId": "077d9bbf-304b-4239-9f95-6e24e2d1ed31"
   },
   "outputs": [
    {
     "data": {
      "text/plain": [
       "(22641, 115)"
      ]
     },
     "execution_count": 17,
     "metadata": {},
     "output_type": "execute_result"
    }
   ],
   "source": [
    "# Alumno: Observar las dimensiones de la variable input\n",
    "padded.shape"
   ]
  },
  {
   "cell_type": "code",
   "execution_count": 18,
   "metadata": {
    "colab": {
     "base_uri": "https://localhost:8080/"
    },
    "id": "llVM-tzQo9_F",
    "outputId": "cb5db8b1-b248-4262-b313-606c7adad3d0"
   },
   "outputs": [
    {
     "data": {
      "text/plain": [
       "(22641, 5)"
      ]
     },
     "execution_count": 18,
     "metadata": {},
     "output_type": "execute_result"
    }
   ],
   "source": [
    "# Alumno tomar la columna rating y alcemacenarla en una variable \"y\" transformada a oneHotEncoding\n",
    "# Su shape debe ser equivalente la cantidad de rows del corpus y a la cantidad\n",
    "# de clases que se deseen predecir (en este ejemplo son 5)\n",
    "y = df_reviews[\"Rating\"]\n",
    "y = to_categorical(y, num_classes=5)\n",
    "y.shape"
   ]
  },
  {
   "cell_type": "code",
   "execution_count": 19,
   "metadata": {
    "id": "Rmz9A6n4uK4V"
   },
   "outputs": [],
   "source": [
    "# Alumno: Dividir los datos en train y test\n",
    "from sklearn.model_selection import train_test_split\n",
    "X_train, X_test, y_train, y_test = train_test_split(padded, y, test_size=0.2, random_state=10, stratify=y)"
   ]
  },
  {
   "cell_type": "code",
   "execution_count": 20,
   "metadata": {
    "colab": {
     "base_uri": "https://localhost:8080/"
    },
    "id": "EcDPlhEouQ9E",
    "outputId": "52192d8e-2023-4a85-d107-9e1233bf64aa"
   },
   "outputs": [
    {
     "name": "stdout",
     "output_type": "stream",
     "text": [
      "X_train: (18112, 115)\n",
      "y_train: (18112, 5)\n",
      "X_test: (4529, 115)\n",
      "y_test: (4529, 5)\n",
      "\n",
      "Dimensión de entrada: 115\n",
      "Dimensión de salida: 5\n"
     ]
    }
   ],
   "source": [
    "# Alumno: determinar la dimensiones de entrada y salida\n",
    "print(\"X_train:\", X_train.shape)\n",
    "print(\"y_train:\", y_train.shape)\n",
    "print(\"X_test:\", X_test.shape)\n",
    "print(\"y_test:\", y_test.shape)\n",
    "print()\n",
    "print(\"Dimensión de entrada:\", X_train.shape[1])\n",
    "print(\"Dimensión de salida:\", y.shape[1])"
   ]
  },
  {
   "cell_type": "code",
   "execution_count": 21,
   "metadata": {
    "colab": {
     "base_uri": "https://localhost:8080/"
    },
    "id": "a4lwPAny1Rrz",
    "outputId": "21054076-9b18-4e28-b101-fc59ca1ce2a6"
   },
   "outputs": [
    {
     "data": {
      "text/plain": [
       "2001"
      ]
     },
     "execution_count": 21,
     "metadata": {},
     "output_type": "execute_result"
    }
   ],
   "source": [
    "vocab_size+1"
   ]
  },
  {
   "cell_type": "markdown",
   "metadata": {
    "id": "NpbQHExL6OTu"
   },
   "source": [
    "### 2 - Entrenar el modelo con Embeddings + LSTM"
   ]
  },
  {
   "cell_type": "code",
   "execution_count": 33,
   "metadata": {
    "colab": {
     "base_uri": "https://localhost:8080/"
    },
    "id": "NUkuWBsM6cx3",
    "outputId": "10aab509-795c-430b-fd7c-46329b11c5c4"
   },
   "outputs": [
    {
     "name": "stdout",
     "output_type": "stream",
     "text": [
      "Model: \"sequential_2\"\n",
      "_________________________________________________________________\n",
      " Layer (type)                Output Shape              Param #   \n",
      "=================================================================\n",
      " embedding_2 (Embedding)     (None, 115, 40)           80040     \n",
      "                                                                 \n",
      " bidirectional_6 (Bidirecti  (None, 115, 256)          173056    \n",
      " onal)                                                           \n",
      "                                                                 \n",
      " dropout_8 (Dropout)         (None, 115, 256)          0         \n",
      "                                                                 \n",
      " bidirectional_7 (Bidirecti  (None, 115, 128)          164352    \n",
      " onal)                                                           \n",
      "                                                                 \n",
      " dropout_9 (Dropout)         (None, 115, 128)          0         \n",
      "                                                                 \n",
      " lstm_10 (LSTM)              (None, 115, 64)           49408     \n",
      "                                                                 \n",
      " dropout_10 (Dropout)        (None, 115, 64)           0         \n",
      "                                                                 \n",
      " bidirectional_8 (Bidirecti  (None, 128)               66048     \n",
      " onal)                                                           \n",
      "                                                                 \n",
      " dense_8 (Dense)             (None, 128)               16512     \n",
      "                                                                 \n",
      " dense_9 (Dense)             (None, 64)                8256      \n",
      "                                                                 \n",
      " dropout_11 (Dropout)        (None, 64)                0         \n",
      "                                                                 \n",
      " dense_10 (Dense)            (None, 32)                2080      \n",
      "                                                                 \n",
      " dense_11 (Dense)            (None, 5)                 165       \n",
      "                                                                 \n",
      "=================================================================\n",
      "Total params: 559917 (2.14 MB)\n",
      "Trainable params: 559917 (2.14 MB)\n",
      "Non-trainable params: 0 (0.00 Byte)\n",
      "_________________________________________________________________\n"
     ]
    }
   ],
   "source": [
    "# Alumno: Entrene su modelo con LSTM entrenando sus propios embeddings\n",
    "# o utilizando embeddings pre-entrenados.\n",
    "from keras.layers import LSTM\n",
    "from keras.layers import Embedding\n",
    "from keras.layers import Dropout\n",
    "from keras.layers import Bidirectional\n",
    "\n",
    "model = Sequential()\n",
    "\n",
    "model.add(Embedding(input_dim=vocab_size+1, output_dim=40, input_length=X_train.shape[1]))\n",
    "\n",
    "model.add(Bidirectional(LSTM(128, return_sequences=True)))\n",
    "model.add(Dropout(0.2))\n",
    "\n",
    "model.add(Bidirectional(LSTM(64, return_sequences=True)))\n",
    "model.add(Dropout(0.3))\n",
    "model.add(LSTM(64, return_sequences=True))\n",
    "model.add(Dropout(0.2))\n",
    "\n",
    "model.add(Bidirectional(LSTM(64)))\n",
    "\n",
    "# Capas densas\n",
    "model.add(Dense(128, activation='relu'))\n",
    "model.add(Dense(64, activation='relu'))\n",
    "model.add(Dropout(0.3))\n",
    "model.add(Dense(32, activation='relu'))\n",
    "\n",
    "# Capa de salida\n",
    "model.add(Dense(y.shape[1], activation='softmax'))\n",
    "model.compile(loss='categorical_crossentropy', optimizer='adam', metrics=['accuracy'])\n",
    "model.summary()\n",
    "\n"
   ]
  },
  {
   "cell_type": "markdown",
   "metadata": {},
   "source": [
    "### Balanceo de datos:"
   ]
  },
  {
   "cell_type": "markdown",
   "metadata": {},
   "source": [
    "Tal como vimos al inicio, la data está desbalanceada, no tenemos una distribución equitativa en los Ratings:"
   ]
  },
  {
   "cell_type": "code",
   "execution_count": 5,
   "metadata": {},
   "outputs": [
    {
     "data": {
      "image/png": "[encoded data removed]",
      "text/plain": [
       "<Figure size 640x480 with 1 Axes>"
      ]
     },
     "metadata": {},
     "output_type": "display_data"
    }
   ],
   "source": [
    "df_reviews[\"Rating\"].value_counts().plot(kind=\"bar\")\n",
    "plt.xlabel(\"Rating\"), plt.ylabel(\"Cantidad\")\n",
    "plt.show()"
   ]
  },
  {
   "cell_type": "markdown",
   "metadata": {},
   "source": [
    "Vamos primero a entrenar el modelo con la data desbalanceada original:"
   ]
  },
  {
   "cell_type": "code",
   "execution_count": 24,
   "metadata": {
    "colab": {
     "base_uri": "https://localhost:8080/"
    },
    "id": "TbP-eJz-1Rr0",
    "outputId": "3d8a0496-6f84-40ee-f5c9-b04efde0acf1",
    "scrolled": false
   },
   "outputs": [
    {
     "name": "stdout",
     "output_type": "stream",
     "text": [
      "Epoch 1/40\n",
      "566/566 [==============================] - 53s 93ms/step - loss: 1.0307 - accuracy: 0.5936 - val_loss: 0.9386 - val_accuracy: 0.6090\n",
      "Epoch 2/40\n",
      "566/566 [==============================] - 23s 41ms/step - loss: 0.8989 - accuracy: 0.6292 - val_loss: 0.9192 - val_accuracy: 0.6213\n",
      "Epoch 3/40\n",
      "566/566 [==============================] - 22s 39ms/step - loss: 0.8617 - accuracy: 0.6400 - val_loss: 0.9178 - val_accuracy: 0.6138\n",
      "Epoch 4/40\n",
      "566/566 [==============================] - 22s 38ms/step - loss: 0.8229 - accuracy: 0.6524 - val_loss: 0.9123 - val_accuracy: 0.6185\n",
      "Epoch 5/40\n",
      "566/566 [==============================] - 21s 38ms/step - loss: 0.7943 - accuracy: 0.6623 - val_loss: 0.9346 - val_accuracy: 0.6134\n",
      "Epoch 6/40\n",
      "566/566 [==============================] - 24s 42ms/step - loss: 0.7824 - accuracy: 0.6661 - val_loss: 0.9154 - val_accuracy: 0.5977\n",
      "Epoch 7/40\n",
      "566/566 [==============================] - 22s 39ms/step - loss: 0.7538 - accuracy: 0.6740 - val_loss: 0.9386 - val_accuracy: 0.6050\n",
      "Epoch 8/40\n",
      "566/566 [==============================] - 21s 37ms/step - loss: 0.7200 - accuracy: 0.6918 - val_loss: 0.9484 - val_accuracy: 0.6112\n",
      "Epoch 9/40\n",
      "566/566 [==============================] - 21s 38ms/step - loss: 0.7038 - accuracy: 0.7021 - val_loss: 0.9629 - val_accuracy: 0.6222\n",
      "Epoch 10/40\n",
      "566/566 [==============================] - 21s 37ms/step - loss: 0.6757 - accuracy: 0.7099 - val_loss: 0.9776 - val_accuracy: 0.6110\n",
      "Epoch 11/40\n",
      "566/566 [==============================] - 22s 39ms/step - loss: 0.6682 - accuracy: 0.7116 - val_loss: 0.9878 - val_accuracy: 0.6171\n",
      "Epoch 12/40\n",
      "566/566 [==============================] - 21s 37ms/step - loss: 0.6446 - accuracy: 0.7274 - val_loss: 0.9938 - val_accuracy: 0.6094\n",
      "Epoch 13/40\n",
      "566/566 [==============================] - 20s 36ms/step - loss: 0.6232 - accuracy: 0.7366 - val_loss: 1.0394 - val_accuracy: 0.5853\n",
      "Epoch 14/40\n",
      "566/566 [==============================] - 20s 35ms/step - loss: 0.5990 - accuracy: 0.7473 - val_loss: 1.0646 - val_accuracy: 0.5959\n",
      "Epoch 15/40\n",
      "566/566 [==============================] - 20s 36ms/step - loss: 0.5845 - accuracy: 0.7614 - val_loss: 1.0637 - val_accuracy: 0.5948\n",
      "Epoch 16/40\n",
      "566/566 [==============================] - 20s 35ms/step - loss: 0.5657 - accuracy: 0.7678 - val_loss: 1.0852 - val_accuracy: 0.6041\n",
      "Epoch 17/40\n",
      "566/566 [==============================] - 21s 36ms/step - loss: 0.5410 - accuracy: 0.7806 - val_loss: 1.1047 - val_accuracy: 0.5922\n",
      "Epoch 18/40\n",
      "566/566 [==============================] - 21s 37ms/step - loss: 0.5260 - accuracy: 0.7872 - val_loss: 1.1630 - val_accuracy: 0.5973\n",
      "Epoch 19/40\n",
      "566/566 [==============================] - 21s 37ms/step - loss: 0.5016 - accuracy: 0.8045 - val_loss: 1.1539 - val_accuracy: 0.5928\n",
      "Epoch 20/40\n",
      "566/566 [==============================] - 21s 37ms/step - loss: 0.4913 - accuracy: 0.8057 - val_loss: 1.1749 - val_accuracy: 0.5811\n",
      "Epoch 21/40\n",
      "566/566 [==============================] - 21s 37ms/step - loss: 0.4728 - accuracy: 0.8142 - val_loss: 1.2420 - val_accuracy: 0.6019\n",
      "Epoch 22/40\n",
      "566/566 [==============================] - 20s 36ms/step - loss: 0.4478 - accuracy: 0.8270 - val_loss: 1.2697 - val_accuracy: 0.6004\n",
      "Epoch 23/40\n",
      "566/566 [==============================] - 21s 37ms/step - loss: 0.4402 - accuracy: 0.8297 - val_loss: 1.3118 - val_accuracy: 0.5904\n",
      "Epoch 24/40\n",
      "566/566 [==============================] - 21s 36ms/step - loss: 0.4230 - accuracy: 0.8386 - val_loss: 1.2859 - val_accuracy: 0.5942\n",
      "Epoch 25/40\n",
      "566/566 [==============================] - 20s 35ms/step - loss: 0.3978 - accuracy: 0.8521 - val_loss: 1.3503 - val_accuracy: 0.5880\n",
      "Epoch 26/40\n",
      "566/566 [==============================] - 20s 36ms/step - loss: 0.3938 - accuracy: 0.8532 - val_loss: 1.3960 - val_accuracy: 0.5750\n",
      "Epoch 27/40\n",
      "566/566 [==============================] - 21s 36ms/step - loss: 0.3701 - accuracy: 0.8642 - val_loss: 1.3552 - val_accuracy: 0.5913\n",
      "Epoch 28/40\n",
      "566/566 [==============================] - 20s 35ms/step - loss: 0.3530 - accuracy: 0.8723 - val_loss: 1.4130 - val_accuracy: 0.5970\n",
      "Epoch 29/40\n",
      "566/566 [==============================] - 21s 36ms/step - loss: 0.3439 - accuracy: 0.8749 - val_loss: 1.5180 - val_accuracy: 0.5701\n",
      "Epoch 30/40\n",
      "566/566 [==============================] - 20s 35ms/step - loss: 0.3244 - accuracy: 0.8847 - val_loss: 1.5302 - val_accuracy: 0.5681\n",
      "Epoch 31/40\n",
      "566/566 [==============================] - 20s 35ms/step - loss: 0.3161 - accuracy: 0.8871 - val_loss: 1.4912 - val_accuracy: 0.5628\n",
      "Epoch 32/40\n",
      "566/566 [==============================] - 21s 38ms/step - loss: 0.2955 - accuracy: 0.8981 - val_loss: 1.5619 - val_accuracy: 0.5803\n",
      "Epoch 33/40\n",
      "566/566 [==============================] - 21s 36ms/step - loss: 0.2870 - accuracy: 0.8990 - val_loss: 1.5119 - val_accuracy: 0.5845\n",
      "Epoch 34/40\n",
      "566/566 [==============================] - 20s 36ms/step - loss: 0.2694 - accuracy: 0.9065 - val_loss: 1.6431 - val_accuracy: 0.5719\n",
      "Epoch 35/40\n",
      "566/566 [==============================] - 20s 36ms/step - loss: 0.2575 - accuracy: 0.9114 - val_loss: 1.6437 - val_accuracy: 0.5816\n",
      "Epoch 36/40\n",
      "566/566 [==============================] - 20s 35ms/step - loss: 0.2561 - accuracy: 0.9114 - val_loss: 1.4875 - val_accuracy: 0.5725\n",
      "Epoch 37/40\n",
      "566/566 [==============================] - 20s 35ms/step - loss: 0.2503 - accuracy: 0.9149 - val_loss: 1.6142 - val_accuracy: 0.5840\n",
      "Epoch 38/40\n",
      "566/566 [==============================] - 20s 35ms/step - loss: 0.2294 - accuracy: 0.9227 - val_loss: 1.6043 - val_accuracy: 0.5822\n",
      "Epoch 39/40\n",
      "566/566 [==============================] - 19s 34ms/step - loss: 0.2245 - accuracy: 0.9246 - val_loss: 1.7503 - val_accuracy: 0.5489\n",
      "Epoch 40/40\n",
      "566/566 [==============================] - 20s 35ms/step - loss: 0.2288 - accuracy: 0.9211 - val_loss: 1.8486 - val_accuracy: 0.5650\n"
     ]
    }
   ],
   "source": [
    "early_stop = EarlyStopping(\n",
    "    monitor='accuracy',\n",
    "    patience=5,\n",
    "    verbose=1,\n",
    "    restore_best_weights=True\n",
    ")\n",
    "\n",
    "modelo = model.fit(X_train, y_train, validation_data=(X_test, y_test), epochs=40, callbacks=[early_stop])"
   ]
  },
  {
   "cell_type": "markdown",
   "metadata": {},
   "source": [
    "Obtenemos el siguiente resultado:"
   ]
  },
  {
   "cell_type": "code",
   "execution_count": 25,
   "metadata": {
    "colab": {
     "base_uri": "https://localhost:8080/",
     "height": 449
    },
    "id": "l2kjayxx1Rr0",
    "outputId": "1b52eb07-6041-4d30-dcc6-1a2bbe8a0337"
   },
   "outputs": [
    {
     "data": {
      "image/png": "[encoded data removed]",
      "text/plain": [
       "<Figure size 640x480 with 1 Axes>"
      ]
     },
     "metadata": {},
     "output_type": "display_data"
    }
   ],
   "source": [
    "epoch_count = range(1, len(modelo.history['accuracy']) + 1)\n",
    "sns.lineplot(x=epoch_count,  y=modelo.history['accuracy'], label='train')\n",
    "sns.lineplot(x=epoch_count,  y=modelo.history['val_accuracy'], label='valid')\n",
    "plt.xlabel(\"epochs\"), plt.ylabel(\"accuracy\")\n",
    "plt.show()"
   ]
  },
  {
   "cell_type": "markdown",
   "metadata": {},
   "source": [
    "Ahora vamos a balancear los datos. Se va usar el método \"SMOTE\" en vez de otro método más simple como lo sería \"Random Over Sample\". Ya que SMOTE en lugar de simplemente replicar muestras existentes, genera muestras sintéticas. Lo hace seleccionando dos o más muestras similares de la clase minoritaria y, luego, crea una nueva muestra que es una combinación lineal de las características de estas muestras. Esencialmente, SMOTE \"interpola\" entre varias muestras de la clase minoritaria para crear nuevas muestras sintéticas. Esto evita el overfitting."
   ]
  },
  {
   "cell_type": "code",
   "execution_count": 31,
   "metadata": {
    "id": "uk-jG87L48Mt"
   },
   "outputs": [],
   "source": [
    "from imblearn.over_sampling import SMOTE\n",
    "\n",
    "smote = SMOTE()\n",
    "X_train_SMOTE, y_train_SMOTE = smote.fit_resample(X_train, y_train)"
   ]
  },
  {
   "cell_type": "code",
   "execution_count": 32,
   "metadata": {
    "colab": {
     "base_uri": "https://localhost:8080/",
     "height": 507
    },
    "id": "LWij4YAb4TeD",
    "outputId": "ff63be29-a957-4732-f12d-8406b06426a7"
   },
   "outputs": [
    {
     "data": {
      "image/png": "[encoded data removed]",
      "text/plain": [
       "<Figure size 1000x500 with 1 Axes>"
      ]
     },
     "metadata": {},
     "output_type": "display_data"
    }
   ],
   "source": [
    "class_labels = [f'{i+1}' for i in range(y_train_SMOTE.shape[1])]\n",
    "class_counts_train = y_train_SMOTE.sum(axis=0)\n",
    "\n",
    "plt.figure(figsize=(10, 5))\n",
    "sns.barplot(x=class_labels, y=class_counts_train)\n",
    "plt.title(f'Distribución en y_train con SMOTE')\n",
    "plt.ylabel('Frecuencia')\n",
    "plt.xlabel('Clases')\n",
    "\n",
    "plt.tight_layout()\n",
    "plt.show()\n"
   ]
  },
  {
   "cell_type": "code",
   "execution_count": 29,
   "metadata": {
    "colab": {
     "base_uri": "https://localhost:8080/"
    },
    "id": "_rmsppW048Ap",
    "outputId": "80523f56-6ca8-4ce8-bc5d-8d27c55ff6da",
    "scrolled": false
   },
   "outputs": [
    {
     "name": "stdout",
     "output_type": "stream",
     "text": [
      "Epoch 1/40\n",
      "1568/1568 [==============================] - 95s 53ms/step - loss: 1.1798 - accuracy: 0.4557 - val_loss: 1.2944 - val_accuracy: 0.4003\n",
      "Epoch 2/40\n",
      "1568/1568 [==============================] - 56s 36ms/step - loss: 0.8750 - accuracy: 0.6289 - val_loss: 1.1304 - val_accuracy: 0.5507\n",
      "Epoch 3/40\n",
      "1568/1568 [==============================] - 53s 34ms/step - loss: 0.6995 - accuracy: 0.7199 - val_loss: 1.2379 - val_accuracy: 0.5564\n",
      "Epoch 4/40\n",
      "1568/1568 [==============================] - 53s 34ms/step - loss: 0.5973 - accuracy: 0.7654 - val_loss: 1.2596 - val_accuracy: 0.5558\n",
      "Epoch 5/40\n",
      "1568/1568 [==============================] - 54s 35ms/step - loss: 0.5160 - accuracy: 0.8016 - val_loss: 1.3385 - val_accuracy: 0.5354\n",
      "Epoch 6/40\n",
      "1568/1568 [==============================] - 55s 35ms/step - loss: 0.4535 - accuracy: 0.8280 - val_loss: 1.4501 - val_accuracy: 0.5295\n",
      "Epoch 7/40\n",
      "1568/1568 [==============================] - 55s 35ms/step - loss: 0.4046 - accuracy: 0.8467 - val_loss: 1.4514 - val_accuracy: 0.5588\n",
      "Epoch 8/40\n",
      "1568/1568 [==============================] - 54s 34ms/step - loss: 0.3770 - accuracy: 0.8610 - val_loss: 1.4770 - val_accuracy: 0.5869\n",
      "Epoch 9/40\n",
      "1568/1568 [==============================] - 54s 34ms/step - loss: 0.3431 - accuracy: 0.8739 - val_loss: 1.6051 - val_accuracy: 0.5485\n",
      "Epoch 10/40\n",
      "1568/1568 [==============================] - 55s 35ms/step - loss: 0.3045 - accuracy: 0.8894 - val_loss: 1.4795 - val_accuracy: 0.5480\n",
      "Epoch 11/40\n",
      "1568/1568 [==============================] - 56s 36ms/step - loss: 0.2839 - accuracy: 0.8986 - val_loss: 1.5708 - val_accuracy: 0.5410\n",
      "Epoch 12/40\n",
      "1568/1568 [==============================] - 55s 35ms/step - loss: 0.2529 - accuracy: 0.9120 - val_loss: 1.7617 - val_accuracy: 0.5485\n",
      "Epoch 13/40\n",
      "1568/1568 [==============================] - 55s 35ms/step - loss: 0.2415 - accuracy: 0.9170 - val_loss: 1.6316 - val_accuracy: 0.5878\n",
      "Epoch 14/40\n",
      "1568/1568 [==============================] - 55s 35ms/step - loss: 0.2151 - accuracy: 0.9266 - val_loss: 1.6584 - val_accuracy: 0.5750\n",
      "Epoch 15/40\n",
      "1568/1568 [==============================] - 54s 35ms/step - loss: 0.2002 - accuracy: 0.9329 - val_loss: 1.7399 - val_accuracy: 0.5694\n",
      "Epoch 16/40\n",
      "1568/1568 [==============================] - 55s 35ms/step - loss: 0.1836 - accuracy: 0.9393 - val_loss: 1.8362 - val_accuracy: 0.5617\n",
      "Epoch 17/40\n",
      "1568/1568 [==============================] - 56s 35ms/step - loss: 0.1694 - accuracy: 0.9453 - val_loss: 1.8536 - val_accuracy: 0.5686\n",
      "Epoch 18/40\n",
      "1568/1568 [==============================] - 56s 36ms/step - loss: 0.1576 - accuracy: 0.9490 - val_loss: 1.7501 - val_accuracy: 0.5800\n",
      "Epoch 19/40\n",
      "1568/1568 [==============================] - 56s 36ms/step - loss: 0.1480 - accuracy: 0.9527 - val_loss: 1.7011 - val_accuracy: 0.5712\n",
      "Epoch 20/40\n",
      "1568/1568 [==============================] - 54s 35ms/step - loss: 0.1389 - accuracy: 0.9561 - val_loss: 1.9628 - val_accuracy: 0.5405\n",
      "Epoch 21/40\n",
      "1568/1568 [==============================] - 55s 35ms/step - loss: 0.1365 - accuracy: 0.9579 - val_loss: 1.8733 - val_accuracy: 0.5401\n",
      "Epoch 22/40\n",
      "1568/1568 [==============================] - 53s 34ms/step - loss: 0.1169 - accuracy: 0.9635 - val_loss: 1.8655 - val_accuracy: 0.5569\n",
      "Epoch 23/40\n",
      "1568/1568 [==============================] - 54s 35ms/step - loss: 0.1090 - accuracy: 0.9654 - val_loss: 2.0391 - val_accuracy: 0.5849\n",
      "Epoch 24/40\n",
      "1568/1568 [==============================] - 55s 35ms/step - loss: 0.0971 - accuracy: 0.9688 - val_loss: 2.0207 - val_accuracy: 0.5818\n",
      "Epoch 25/40\n",
      "1568/1568 [==============================] - 53s 34ms/step - loss: 0.1003 - accuracy: 0.9691 - val_loss: 1.9713 - val_accuracy: 0.5739\n",
      "Epoch 26/40\n",
      "1568/1568 [==============================] - 55s 35ms/step - loss: 0.0867 - accuracy: 0.9732 - val_loss: 1.9819 - val_accuracy: 0.5531\n",
      "Epoch 27/40\n",
      "1568/1568 [==============================] - 54s 34ms/step - loss: 0.0818 - accuracy: 0.9760 - val_loss: 2.1239 - val_accuracy: 0.5392\n",
      "Epoch 28/40\n",
      "1568/1568 [==============================] - 57s 37ms/step - loss: 0.0832 - accuracy: 0.9750 - val_loss: 2.2049 - val_accuracy: 0.5712\n",
      "Epoch 29/40\n",
      "1568/1568 [==============================] - 66s 42ms/step - loss: 0.0739 - accuracy: 0.9776 - val_loss: 2.0696 - val_accuracy: 0.5701\n",
      "Epoch 30/40\n",
      "1568/1568 [==============================] - 54s 34ms/step - loss: 0.0791 - accuracy: 0.9760 - val_loss: 2.2653 - val_accuracy: 0.5754\n",
      "Epoch 31/40\n",
      "1568/1568 [==============================] - 53s 34ms/step - loss: 0.0702 - accuracy: 0.9788 - val_loss: 2.3476 - val_accuracy: 0.5796\n",
      "Epoch 32/40\n",
      "1568/1568 [==============================] - 54s 35ms/step - loss: 0.0629 - accuracy: 0.9820 - val_loss: 2.3505 - val_accuracy: 0.5681\n",
      "Epoch 33/40\n",
      "1568/1568 [==============================] - 54s 34ms/step - loss: 0.0608 - accuracy: 0.9822 - val_loss: 2.2469 - val_accuracy: 0.5847\n",
      "Epoch 34/40\n",
      "1568/1568 [==============================] - 55s 35ms/step - loss: 0.0547 - accuracy: 0.9835 - val_loss: 2.2826 - val_accuracy: 0.5712\n",
      "Epoch 35/40\n",
      "1568/1568 [==============================] - 55s 35ms/step - loss: 0.0536 - accuracy: 0.9838 - val_loss: 2.3922 - val_accuracy: 0.5747\n",
      "Epoch 36/40\n",
      "1568/1568 [==============================] - 55s 35ms/step - loss: 0.0515 - accuracy: 0.9845 - val_loss: 2.3329 - val_accuracy: 0.5710\n",
      "Epoch 37/40\n",
      "1568/1568 [==============================] - 56s 36ms/step - loss: 0.0503 - accuracy: 0.9844 - val_loss: 2.4197 - val_accuracy: 0.5659\n",
      "Epoch 38/40\n",
      "1568/1568 [==============================] - 55s 35ms/step - loss: 0.0421 - accuracy: 0.9870 - val_loss: 2.6614 - val_accuracy: 0.5646\n",
      "Epoch 39/40\n",
      "1568/1568 [==============================] - 54s 34ms/step - loss: 0.0451 - accuracy: 0.9867 - val_loss: 2.4341 - val_accuracy: 0.5683\n",
      "Epoch 40/40\n",
      "1568/1568 [==============================] - 55s 35ms/step - loss: 0.0469 - accuracy: 0.9859 - val_loss: 2.2448 - val_accuracy: 0.5743\n"
     ]
    }
   ],
   "source": [
    "modelo_smote = model.fit(X_train_SMOTE, y_train_SMOTE, validation_data=(X_test, y_test), epochs=40, callbacks=[early_stop])"
   ]
  },
  {
   "cell_type": "code",
   "execution_count": 30,
   "metadata": {
    "colab": {
     "base_uri": "https://localhost:8080/",
     "height": 449
    },
    "id": "xlfLnKxtBnlc",
    "outputId": "0867c5bc-23ff-4fb1-97c1-189e6f923a49"
   },
   "outputs": [
    {
     "data": {
      "image/png": "[encoded data removed]",
      "text/plain": [
       "<Figure size 640x480 with 1 Axes>"
      ]
     },
     "metadata": {},
     "output_type": "display_data"
    }
   ],
   "source": [
    "epoch_count = range(1, len(modelo_smote.history['accuracy']) + 1)\n",
    "sns.lineplot(x=epoch_count,  y=modelo_smote.history['accuracy'], label='train')\n",
    "sns.lineplot(x=epoch_count,  y=modelo_smote.history['val_accuracy'], label='valid')\n",
    "plt.xlabel(\"epochs\"), plt.ylabel(\"accuracy\")\n",
    "plt.show()"
   ]
  },
  {
   "cell_type": "markdown",
   "metadata": {},
   "source": [
    "### Conclusión:"
   ]
  },
  {
   "cell_type": "markdown",
   "metadata": {},
   "source": [
    "En el primer caso, donde usamos la data original, aunque la precisión del entrenamiento aumenta, la precisión de validación parece estancarse e incluso disminuir. Esto sugiere que el modelo podría estar sobreajustándose a la clase mayoritaria, ya que aprende a reconocerla muy bien pero tiene dificultades con la clase minoritaria.\n",
    "\n",
    "En el segundo caso, donde usamos SMOTE, la precisión del entrenamiento también aumenta, pero notamos que la precisión de validación es más estable. Aunque todavía podría haber cierto sobreajuste, el modelo parece ser más robusto que el entrenado con datos desbalanceados.\n",
    "\n",
    "Por ende, en contextos de datos desbalanceados, el uso de técnicas como SMOTE puede ofrecer modelos más robustos y con un rendimiento más equilibrado entre clases."
   ]
  },
  {
   "cell_type": "code",
   "execution_count": null,
   "metadata": {},
   "outputs": [],
   "source": []
  }
 ],
 "metadata": {
  "accelerator": "GPU",
  "colab": {
   "provenance": []
  },
  "kernelspec": {
   "display_name": "Python 3 (ipykernel)",
   "language": "python",
   "name": "python3"
  },
  "language_info": {
   "codemirror_mode": {
    "name": "ipython",
    "version": 3
   },
   "file_extension": ".py",
   "mimetype": "text/x-python",
   "name": "python",
   "nbconvert_exporter": "python",
   "pygments_lexer": "ipython3",
   "version": "3.9.13"
  }
 },
 "nbformat": 4,
 "nbformat_minor": 1
}
