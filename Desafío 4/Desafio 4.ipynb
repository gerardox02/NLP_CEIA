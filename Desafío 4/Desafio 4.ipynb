{
 "cells": [
  {
   "cell_type": "code",
   "execution_count": 1,
   "id": "35e1cc73",
   "metadata": {},
   "outputs": [],
   "source": [
    "import numpy as np\n",
    "import pandas as pd\n",
    "import matplotlib.pyplot as plt\n",
    "import seaborn as sns\n",
    "\n",
    "from tensorflow import keras\n",
    "from tensorflow.keras import layers\n",
    "from keras.utils import to_categorical\n",
    "from keras.models import Sequential\n",
    "from keras.layers import Dense, LSTM, Embedding, Dropout, Bidirectional\n",
    "from keras.preprocessing.text import Tokenizer, text_to_word_sequence\n",
    "from keras.utils import pad_sequences\n",
    "from keras.callbacks import EarlyStopping\n",
    "from scipy.special import softmax\n",
    "\n",
    "import warnings\n",
    "warnings.filterwarnings('ignore')"
   ]
  },
  {
   "cell_type": "markdown",
   "id": "057b03ed",
   "metadata": {},
   "source": [
    "### Importamos el dataset:"
   ]
  },
  {
   "cell_type": "code",
   "execution_count": 2,
   "id": "44052faf",
   "metadata": {},
   "outputs": [
    {
     "data": {
      "text/html": [
       "<div>\n",
       "<style scoped>\n",
       "    .dataframe tbody tr th:only-of-type {\n",
       "        vertical-align: middle;\n",
       "    }\n",
       "\n",
       "    .dataframe tbody tr th {\n",
       "        vertical-align: top;\n",
       "    }\n",
       "\n",
       "    .dataframe thead th {\n",
       "        text-align: right;\n",
       "    }\n",
       "</style>\n",
       "<table border=\"1\" class=\"dataframe\">\n",
       "  <thead>\n",
       "    <tr style=\"text-align: right;\">\n",
       "      <th></th>\n",
       "      <th>0</th>\n",
       "    </tr>\n",
       "  </thead>\n",
       "  <tbody>\n",
       "    <tr>\n",
       "      <th>848</th>\n",
       "      <td>Me acompaña el mate amargo</td>\n",
       "    </tr>\n",
       "    <tr>\n",
       "      <th>714</th>\n",
       "      <td>Tu cicatriz</td>\n",
       "    </tr>\n",
       "    <tr>\n",
       "      <th>510</th>\n",
       "      <td>Es tan fácil perder la razón</td>\n",
       "    </tr>\n",
       "    <tr>\n",
       "      <th>568</th>\n",
       "      <td>Aunque pueda parecerte un desatino</td>\n",
       "    </tr>\n",
       "    <tr>\n",
       "      <th>803</th>\n",
       "      <td>El campeón tiene miedo</td>\n",
       "    </tr>\n",
       "    <tr>\n",
       "      <th>432</th>\n",
       "      <td>Alrededor paranoia y dolor, la moneda cayó</td>\n",
       "    </tr>\n",
       "    <tr>\n",
       "      <th>828</th>\n",
       "      <td>estoy cansado de los que vienen de amigos</td>\n",
       "    </tr>\n",
       "    <tr>\n",
       "      <th>391</th>\n",
       "      <td>No hay pájaros en el nido</td>\n",
       "    </tr>\n",
       "    <tr>\n",
       "      <th>121</th>\n",
       "      <td>Soy el soldado de tu lado malvado</td>\n",
       "    </tr>\n",
       "    <tr>\n",
       "      <th>871</th>\n",
       "      <td>¿Para qué guardar rencor?</td>\n",
       "    </tr>\n",
       "  </tbody>\n",
       "</table>\n",
       "</div>"
      ],
      "text/plain": [
       "                                              0\n",
       "848                  Me acompaña el mate amargo\n",
       "714                                 Tu cicatriz\n",
       "510                Es tan fácil perder la razón\n",
       "568          Aunque pueda parecerte un desatino\n",
       "803                      El campeón tiene miedo\n",
       "432  Alrededor paranoia y dolor, la moneda cayó\n",
       "828   estoy cansado de los que vienen de amigos\n",
       "391                   No hay pájaros en el nido\n",
       "121           Soy el soldado de tu lado malvado\n",
       "871                   ¿Para qué guardar rencor?"
      ]
     },
     "execution_count": 2,
     "metadata": {},
     "output_type": "execute_result"
    }
   ],
   "source": [
    "df = pd.read_csv('calamaro.txt', sep='/n', header=None)\n",
    "df.sample(10)"
   ]
  },
  {
   "cell_type": "markdown",
   "id": "8468df54",
   "metadata": {},
   "source": [
    "### Preprocesamiento:"
   ]
  },
  {
   "cell_type": "code",
   "execution_count": 3,
   "id": "df4fd9ea",
   "metadata": {},
   "outputs": [
    {
     "data": {
      "text/plain": [
       "'No me claves tus puñales por la espalda'"
      ]
     },
     "execution_count": 3,
     "metadata": {},
     "output_type": "execute_result"
    }
   ],
   "source": [
    "# Largo de la secuencia, incluye seq input + word output\n",
    "train_len = 4\n",
    "\n",
    "text = df.loc[1,0]\n",
    "text"
   ]
  },
  {
   "cell_type": "code",
   "execution_count": 4,
   "id": "4a6f570a",
   "metadata": {},
   "outputs": [
    {
     "data": {
      "text/plain": [
       "['no', 'me', 'claves', 'tus', 'puñales', 'por', 'la', 'espalda']"
      ]
     },
     "execution_count": 4,
     "metadata": {},
     "output_type": "execute_result"
    }
   ],
   "source": [
    "tokens = text_to_word_sequence(text) # entran oraciones -> salen vectores de N posiciones (tokens)\n",
    "tokens"
   ]
  },
  {
   "cell_type": "code",
   "execution_count": 5,
   "id": "720426a8",
   "metadata": {},
   "outputs": [
    {
     "data": {
      "text/plain": [
       "[['flaca'],\n",
       " ['no', 'me', 'claves', 'tus', 'puñales', 'por', 'la', 'espalda'],\n",
       " ['tan', 'profundo']]"
      ]
     },
     "execution_count": 5,
     "metadata": {},
     "output_type": "execute_result"
    }
   ],
   "source": [
    "# Recorrer todas las filas y transformar las oraciones en secuencias de palabras\n",
    "sentence_tokens = []\n",
    "for _, row in df[:None].iterrows():\n",
    "    sentence_tokens.append(text_to_word_sequence(row[0]))\n",
    "    \n",
    "sentence_tokens[:3]"
   ]
  },
  {
   "cell_type": "code",
   "execution_count": 6,
   "id": "fd684cb8",
   "metadata": {},
   "outputs": [
    {
     "data": {
      "text/plain": [
       "[['no', 'me', 'claves', 'tus'],\n",
       " ['me', 'claves', 'tus', 'puñales'],\n",
       " ['claves', 'tus', 'puñales', 'por'],\n",
       " ['tus', 'puñales', 'por', 'la']]"
      ]
     },
     "execution_count": 6,
     "metadata": {},
     "output_type": "execute_result"
    }
   ],
   "source": [
    "# Código para hacer el desfasaje de las palabras según el train_len\n",
    "text_sequences = []\n",
    "for i in range(train_len, len(tokens)):\n",
    "    seq = tokens[i-train_len:i]\n",
    "    text_sequences.append(seq)\n",
    "\n",
    "text_sequences"
   ]
  },
  {
   "cell_type": "markdown",
   "id": "4b0e851f",
   "metadata": {},
   "source": [
    "### Tokenización:"
   ]
  },
  {
   "cell_type": "code",
   "execution_count": 7,
   "id": "b5756d0f",
   "metadata": {},
   "outputs": [
    {
     "data": {
      "text/plain": [
       "[[6, 4, 2, 1], [4, 2, 1, 3], [2, 1, 3, 5], [1, 3, 5, 7]]"
      ]
     },
     "execution_count": 7,
     "metadata": {},
     "output_type": "execute_result"
    }
   ],
   "source": [
    "tok = Tokenizer() \n",
    "tok.fit_on_texts(text_sequences) \n",
    "\n",
    "# Convertimos las palabras a números\n",
    "# entran palabras -> salen números\n",
    "sequences = tok.texts_to_sequences(text_sequences)\n",
    "\n",
    "# Ahora sequences tiene los números \"ID\", largo 4\n",
    "sequences"
   ]
  },
  {
   "cell_type": "code",
   "execution_count": 8,
   "id": "64869048",
   "metadata": {},
   "outputs": [
    {
     "name": "stdout",
     "output_type": "stream",
     "text": [
      "4\n"
     ]
    }
   ],
   "source": [
    "# Cantidad de casos (doc) de entrada\n",
    "print(tok.document_count)"
   ]
  },
  {
   "cell_type": "code",
   "execution_count": 9,
   "id": "aac891e5",
   "metadata": {},
   "outputs": [
    {
     "name": "stdout",
     "output_type": "stream",
     "text": [
      "7\n"
     ]
    }
   ],
   "source": [
    "# Cantidad de veces que aparece cada palabra\n",
    "print(len(tok.word_counts))"
   ]
  },
  {
   "cell_type": "code",
   "execution_count": 10,
   "id": "53a9faad",
   "metadata": {},
   "outputs": [
    {
     "name": "stdout",
     "output_type": "stream",
     "text": [
      "{'tus': 1, 'claves': 2, 'puñales': 3, 'me': 4, 'por': 5, 'no': 6, 'la': 7}\n"
     ]
    }
   ],
   "source": [
    "# El índice para cada palabra\n",
    "# El sistema las ordena de las más populares a las menos populares\n",
    "print(tok.word_index)"
   ]
  },
  {
   "cell_type": "code",
   "execution_count": 11,
   "id": "996cadcd",
   "metadata": {},
   "outputs": [
    {
     "name": "stdout",
     "output_type": "stream",
     "text": [
      "defaultdict(<class 'int'>, {'tus': 4, 'claves': 3, 'me': 2, 'no': 1, 'puñales': 3, 'por': 2, 'la': 1})\n"
     ]
    }
   ],
   "source": [
    "# Cantidad de veces quea aparece cada palabra en cada \"documento\"\n",
    "# (1 documento = 1 caso de entrada)\n",
    "print(tok.word_docs)"
   ]
  },
  {
   "cell_type": "code",
   "execution_count": 12,
   "id": "feb451d2",
   "metadata": {},
   "outputs": [
    {
     "data": {
      "text/plain": [
       "0                                              Flaca\n",
       "1            No me claves tus puñales por la espalda\n",
       "2                                       Tan profundo\n",
       "3                      No me duelen, no me hacen mal\n",
       "4                                              Lejos\n",
       "5                          En el centro de la tierra\n",
       "6                                Las raíces del amor\n",
       "7                            Donde estaban, quedarán\n",
       "8                             Entre el no me olvides\n",
       "9                 Me dejé nuestros abriles olvidados\n",
       "10                           En el fondo del placard\n",
       "11                           Del cuarto de invitados\n",
       "12                              Eran tiempos dorados\n",
       "13                                   Un pasado mejor\n",
       "14    Aunque casi me equivoco y te digo poco a poco:\n",
       "15             No me mientas, no me digas la verdad,\n",
       "Name: 0, dtype: object"
      ]
     },
     "execution_count": 12,
     "metadata": {},
     "output_type": "execute_result"
    }
   ],
   "source": [
    "# Vistazo a las primeras filas\n",
    "df.loc[:15,0]"
   ]
  },
  {
   "cell_type": "code",
   "execution_count": 13,
   "id": "1b4a47e2",
   "metadata": {
    "scrolled": false
   },
   "outputs": [
    {
     "data": {
      "text/plain": [
       "'Flaca No me claves tus puñales por la espalda Tan profundo No me duelen, no me hacen mal Lejos En el centro de la tierra Las raíces del amor Donde estaban, quedarán Entre el no me olvides Me dejé nuestros abriles olvidados En el fondo del placard Del cuarto de invitados Eran tiempos dorados Un pasado mejor Aunque casi me equivoco y te digo poco a poco: No me mientas, no me digas la verdad, No te quedes callada, no levantes la voz, Ni me pidas perdón Aunque casi te confieso Que también he sido un perro compañero Un perro ideal que aprendió a ladrar Y a volver al hogar, para poder comer Flaca No me claves, tus puñales, por la espalda Tan profundo No me duelen, no me hacen mal Lejos En el centro de la tierra Las raíces del amor Donde estaban, quedaran Cuando no estás O me encuentro en otro lugar del mundo Cuando no estás Me equivoco cada medio segundo Cuando no estás La soledad me aconseja mal Cuando no estás No se abre el paracaídas y salto igual Y me pierdo en habitaciones vacías Cuando no estás, cuando no estás conmigo Cuando no estás La casa vacía pregunta: ¿Cuándo volverás? Y escribo versos crueles conmigo Cuando no estás Estoy esperando que vuelvas Cuando no estás Me paso el día contando minutos Cuando no estás O me pierdo en un laberinto oscuro Cuando no estás La soledad me aconseja mal Cuando no estás La casa vacía pregunta: ¿Cuándo volverás? Y escribo versos un poco crueles conmigo Cuando no estás Estoy esperando que vuelvas Cuando no estás La casa vacía pregunta: ¿Cuándo volverás? Y escribo versos crueles conmigo Cuando no estás Estoy esperando que vuelvas Cuando no estás Solo espero verte llegar por esa puerta Lo que ocurre cuando vuelvo es que te quiero más Estoy esperando que vuelvas Cuando no estás conmigo Cuando no estás conmigo Cuando no estás conmigo Hace frío y estoy lejos de casa Hace tiempo que estoy sentado sobre esta piedra Yo me pregunto ¿Para qué sirven las guerras? Tengo un cohete en el pantalón Vos estás tan fría, como la nieve a mi alrededor Vos estás tan blanca Y yo no sé qué hacer La otra noche, te esperé bajo la lluvia dos horas Mil horas, como un perro Y cuando llegaste, me miraste y me dijiste: Loco Estás mojado, ya no te quiero En el circo, vos ya sos una estrella Una estrella roja que todo se lo imagina Si te preguntan, vos no me conocías No, no Yo tengo un cohete en el pantalón Vos estás tan fría, como la nieve a mi alrededor Vos estás tan blanca Que yo no sé qué hacer Te esperé bajo la lluvia, no, no, no La otra noche, te esperé bajo la lluvia dos horas Mil horas, como un perro Y cuando llegaste, me miraste y me dijiste: Loco Estás mojado, ya no te quiero La otra noche, te esperé bajo la lluvia dos horas Mil horas, como un perro Y cuando llegaste, me miraste y me dijiste: Loco Estás mojado, ya no te quiero Soy vulnerable a tu lado más amable Soy carcelero de tu lado más grosero Soy el soldado de tu lado más malvado Y el arquitecto de tus lados incorrectos Soy propietario de tu lado más caliente Soy dirigente de tu'"
      ]
     },
     "execution_count": 13,
     "metadata": {},
     "output_type": "execute_result"
    }
   ],
   "source": [
    "# Concatenamos todos los rows en un solo valor\n",
    "corpus = df.apply(lambda row: ' '.join(row.values.astype(str)), axis=0)[0]\n",
    "corpus[:3000]"
   ]
  },
  {
   "cell_type": "code",
   "execution_count": 14,
   "id": "7c09cf7d",
   "metadata": {},
   "outputs": [
    {
     "data": {
      "text/plain": [
       "['flaca',\n",
       " 'no',\n",
       " 'me',\n",
       " 'claves',\n",
       " 'tus',\n",
       " 'puñales',\n",
       " 'por',\n",
       " 'la',\n",
       " 'espalda',\n",
       " 'tan',\n",
       " 'profundo',\n",
       " 'no',\n",
       " 'me',\n",
       " 'duelen',\n",
       " 'no',\n",
       " 'me',\n",
       " 'hacen',\n",
       " 'mal',\n",
       " 'lejos',\n",
       " 'en']"
      ]
     },
     "execution_count": 14,
     "metadata": {},
     "output_type": "execute_result"
    }
   ],
   "source": [
    "# Transformar el corpus a tokens\n",
    "tokens=text_to_word_sequence(corpus)\n",
    "# Vistazo general de los primeros tokens\n",
    "tokens[:20]"
   ]
  },
  {
   "cell_type": "code",
   "execution_count": 15,
   "id": "4d611c00",
   "metadata": {},
   "outputs": [
    {
     "name": "stdout",
     "output_type": "stream",
     "text": [
      "Cantidad de tokens en el corpus: 6058\n"
     ]
    }
   ],
   "source": [
    "print(\"Cantidad de tokens en el corpus:\", len(tokens))"
   ]
  },
  {
   "cell_type": "code",
   "execution_count": 16,
   "id": "28d648a7",
   "metadata": {},
   "outputs": [
    {
     "data": {
      "text/plain": [
       "[['flaca', 'no', 'me', 'claves'],\n",
       " ['no', 'me', 'claves', 'tus'],\n",
       " ['me', 'claves', 'tus', 'puñales'],\n",
       " ['claves', 'tus', 'puñales', 'por'],\n",
       " ['tus', 'puñales', 'por', 'la'],\n",
       " ['puñales', 'por', 'la', 'espalda'],\n",
       " ['por', 'la', 'espalda', 'tan'],\n",
       " ['la', 'espalda', 'tan', 'profundo'],\n",
       " ['espalda', 'tan', 'profundo', 'no'],\n",
       " ['tan', 'profundo', 'no', 'me'],\n",
       " ['profundo', 'no', 'me', 'duelen'],\n",
       " ['no', 'me', 'duelen', 'no'],\n",
       " ['me', 'duelen', 'no', 'me'],\n",
       " ['duelen', 'no', 'me', 'hacen'],\n",
       " ['no', 'me', 'hacen', 'mal'],\n",
       " ['me', 'hacen', 'mal', 'lejos'],\n",
       " ['hacen', 'mal', 'lejos', 'en'],\n",
       " ['mal', 'lejos', 'en', 'el'],\n",
       " ['lejos', 'en', 'el', 'centro'],\n",
       " ['en', 'el', 'centro', 'de']]"
      ]
     },
     "execution_count": 16,
     "metadata": {},
     "output_type": "execute_result"
    }
   ],
   "source": [
    "# Código para hacer el desfasaje de las palabras según el train_len\n",
    "text_sequences = []\n",
    "for i in range(train_len, len(tokens)):\n",
    "    seq = tokens[i-train_len:i]\n",
    "    text_sequences.append(seq)\n",
    "    \n",
    "text_sequences[:20]"
   ]
  },
  {
   "cell_type": "code",
   "execution_count": 17,
   "id": "0993a29f",
   "metadata": {},
   "outputs": [
    {
     "data": {
      "text/plain": [
       "[[613, 1, 9, 356],\n",
       " [1, 9, 356, 117],\n",
       " [9, 356, 117, 357],\n",
       " [356, 117, 357, 14],\n",
       " [117, 357, 14, 5],\n",
       " [357, 14, 5, 358],\n",
       " [14, 5, 358, 52],\n",
       " [5, 358, 52, 202],\n",
       " [358, 52, 202, 1],\n",
       " [52, 202, 1, 9],\n",
       " [202, 1, 9, 359],\n",
       " [1, 9, 359, 1],\n",
       " [9, 359, 1, 9],\n",
       " [359, 1, 9, 360],\n",
       " [1, 9, 360, 80],\n",
       " [9, 360, 80, 162],\n",
       " [360, 80, 162, 11],\n",
       " [80, 162, 11, 2],\n",
       " [162, 11, 2, 361],\n",
       " [11, 2, 361, 3]]"
      ]
     },
     "execution_count": 17,
     "metadata": {},
     "output_type": "execute_result"
    }
   ],
   "source": [
    "# Proceso de tokenización\n",
    "tok = Tokenizer() \n",
    "tok.fit_on_texts(text_sequences) \n",
    "\n",
    "# Convertimos las palabras a números\n",
    "# entran palabras -> salen números\n",
    "sequences = tok.texts_to_sequences(text_sequences)\n",
    "\n",
    "# Damos un vistazo\n",
    "sequences[:20]"
   ]
  },
  {
   "cell_type": "code",
   "execution_count": 18,
   "id": "a539e09b",
   "metadata": {},
   "outputs": [
    {
     "name": "stdout",
     "output_type": "stream",
     "text": [
      "Cantidad de rows del dataset: 6054\n"
     ]
    }
   ],
   "source": [
    "print(\"Cantidad de rows del dataset:\", len(sequences))"
   ]
  },
  {
   "cell_type": "code",
   "execution_count": 19,
   "id": "bb9555cd",
   "metadata": {},
   "outputs": [
    {
     "data": {
      "text/plain": [
       "array([[1, 2, 3, 4],\n",
       "       [5, 6, 7, 8]])"
      ]
     },
     "execution_count": 19,
     "metadata": {},
     "output_type": "execute_result"
    }
   ],
   "source": [
    "# Con numpy es muy fácil realizar el slicing de vectores\n",
    "ex = np.array([[1,2,3,4],[5,6,7,8]])\n",
    "ex"
   ]
  },
  {
   "cell_type": "code",
   "execution_count": 20,
   "id": "e630a031",
   "metadata": {},
   "outputs": [
    {
     "name": "stdout",
     "output_type": "stream",
     "text": [
      "Dimension: (2, 4)\n",
      "Todos los elementos: [[1 2 3 4]\n",
      " [5 6 7 8]]\n",
      "Todos los elementos menos el último: [[1 2 3]\n",
      " [5 6 7]]\n"
     ]
    }
   ],
   "source": [
    "# Con numpy es muy fácil realizar el slicing de vectores\n",
    "print(\"Dimension:\", ex.shape)\n",
    "print(\"Todos los elementos:\", ex)\n",
    "print(\"Todos los elementos menos el último:\", ex[:, :-1])"
   ]
  },
  {
   "cell_type": "code",
   "execution_count": 21,
   "id": "179fa0df",
   "metadata": {},
   "outputs": [
    {
     "name": "stdout",
     "output_type": "stream",
     "text": [
      "Input: [[1 2 3]\n",
      " [5 6 7]]\n",
      "Target: [4 8]\n"
     ]
    }
   ],
   "source": [
    "input = ex[:,:-1] # todos los rows, menos la ultima col\n",
    "target = ex[:, -1] # última col de cada row\n",
    "\n",
    "print(\"Input:\", input)\n",
    "print(\"Target:\", target)"
   ]
  },
  {
   "cell_type": "code",
   "execution_count": 22,
   "id": "9b9988a9",
   "metadata": {},
   "outputs": [
    {
     "name": "stdout",
     "output_type": "stream",
     "text": [
      "(6054, 3)\n",
      "(6054,)\n"
     ]
    }
   ],
   "source": [
    "arr_sequences = np.array(sequences)\n",
    "x_data = arr_sequences[:,:-1]\n",
    "y_data_int = arr_sequences[:,-1] # aún falta el oneHotEncoder\n",
    "\n",
    "print(x_data.shape)\n",
    "print(y_data_int.shape)"
   ]
  },
  {
   "cell_type": "code",
   "execution_count": 23,
   "id": "a1069d1d",
   "metadata": {
    "scrolled": true
   },
   "outputs": [
    {
     "data": {
      "text/plain": [
       "{1: 'no',\n",
       " 2: 'el',\n",
       " 3: 'de',\n",
       " 4: 'que',\n",
       " 5: 'la',\n",
       " 6: 'y',\n",
       " 7: 'a',\n",
       " 8: 'te',\n",
       " 9: 'me',\n",
       " 10: 'se',\n",
       " 11: 'en',\n",
       " 12: 'un',\n",
       " 13: 'es',\n",
       " 14: 'por',\n",
       " 15: 'amor',\n",
       " 16: 'del',\n",
       " 17: 'puede',\n",
       " 18: 'mi',\n",
       " 19: 'quiero',\n",
       " 20: 'porque'}"
      ]
     },
     "execution_count": 23,
     "metadata": {},
     "output_type": "execute_result"
    }
   ],
   "source": [
    "# Palabras del vocabulario\n",
    "resultado = {k: tok.index_word[k] for k in list(tok.index_word)[:20]}\n",
    "resultado"
   ]
  },
  {
   "cell_type": "code",
   "execution_count": 24,
   "id": "97cdefad",
   "metadata": {},
   "outputs": [
    {
     "data": {
      "text/plain": [
       "1198"
      ]
     },
     "execution_count": 24,
     "metadata": {},
     "output_type": "execute_result"
    }
   ],
   "source": [
    "# Cantidad de palabras en el vocabulario\n",
    "vocab_size = len(tok.word_counts)\n",
    "vocab_size"
   ]
  },
  {
   "cell_type": "code",
   "execution_count": 25,
   "id": "8aad32d8",
   "metadata": {},
   "outputs": [
    {
     "data": {
      "text/plain": [
       "(6054, 1198)"
      ]
     },
     "execution_count": 25,
     "metadata": {},
     "output_type": "execute_result"
    }
   ],
   "source": [
    "y_data_int_offset = y_data_int - 1\n",
    "y_data = to_categorical(y_data_int_offset, num_classes=vocab_size) \n",
    "y_data.shape"
   ]
  },
  {
   "cell_type": "code",
   "execution_count": 26,
   "id": "8f7bd937",
   "metadata": {},
   "outputs": [
    {
     "data": {
      "text/plain": [
       "3"
      ]
     },
     "execution_count": 26,
     "metadata": {},
     "output_type": "execute_result"
    }
   ],
   "source": [
    "# Largo de la secuencia de entrada\n",
    "input_seq_len = x_data.shape[1] \n",
    "input_seq_len"
   ]
  },
  {
   "cell_type": "code",
   "execution_count": 27,
   "id": "8e4a8692",
   "metadata": {},
   "outputs": [
    {
     "data": {
      "text/plain": [
       "1198"
      ]
     },
     "execution_count": 27,
     "metadata": {},
     "output_type": "execute_result"
    }
   ],
   "source": [
    "# Largo del vector de salida --> vocab_size\n",
    "output_size = vocab_size\n",
    "output_size"
   ]
  },
  {
   "cell_type": "markdown",
   "id": "4199aa70",
   "metadata": {},
   "source": [
    "### Definición y entrenamiento del modelo:"
   ]
  },
  {
   "cell_type": "code",
   "execution_count": 28,
   "id": "53fe53ab",
   "metadata": {},
   "outputs": [
    {
     "name": "stdout",
     "output_type": "stream",
     "text": [
      "Model: \"sequential\"\n",
      "_________________________________________________________________\n",
      " Layer (type)                Output Shape              Param #   \n",
      "=================================================================\n",
      " embedding (Embedding)       (None, 3, 25)             29975     \n",
      "                                                                 \n",
      " bidirectional (Bidirectiona  (None, 3, 256)           157696    \n",
      " l)                                                              \n",
      "                                                                 \n",
      " dropout (Dropout)           (None, 3, 256)            0         \n",
      "                                                                 \n",
      " bidirectional_1 (Bidirectio  (None, 3, 256)           394240    \n",
      " nal)                                                            \n",
      "                                                                 \n",
      " bidirectional_2 (Bidirectio  (None, 3, 128)           164352    \n",
      " nal)                                                            \n",
      "                                                                 \n",
      " bidirectional_3 (Bidirectio  (None, 3, 128)           98816     \n",
      " nal)                                                            \n",
      "                                                                 \n",
      " dropout_1 (Dropout)         (None, 3, 128)            0         \n",
      "                                                                 \n",
      " bidirectional_4 (Bidirectio  (None, 128)              98816     \n",
      " nal)                                                            \n",
      "                                                                 \n",
      " dense (Dense)               (None, 128)               16512     \n",
      "                                                                 \n",
      " dropout_2 (Dropout)         (None, 128)               0         \n",
      "                                                                 \n",
      " dense_1 (Dense)             (None, 64)                8256      \n",
      "                                                                 \n",
      " dense_2 (Dense)             (None, 32)                2080      \n",
      "                                                                 \n",
      " dense_3 (Dense)             (None, 16)                528       \n",
      "                                                                 \n",
      " dense_4 (Dense)             (None, 1198)              20366     \n",
      "                                                                 \n",
      "=================================================================\n",
      "Total params: 991,637\n",
      "Trainable params: 991,637\n",
      "Non-trainable params: 0\n",
      "_________________________________________________________________\n"
     ]
    }
   ],
   "source": [
    "model = Sequential()\n",
    "\n",
    "model.add(Embedding(input_dim=vocab_size+1, output_dim=25, input_length=input_seq_len))\n",
    "\n",
    "# Primera capa LSTM con 128 unidades\n",
    "model.add(Bidirectional(LSTM(128, return_sequences=True)))\n",
    "model.add(Dropout(0.3))\n",
    "\n",
    "# Segunda capa LSTM con 128 unidades\n",
    "model.add(Bidirectional(LSTM(128, return_sequences=True)))\n",
    "#model.add(Dropout(0.3))\n",
    "\n",
    "# Tercera capa LSTM con 64 unidades\n",
    "model.add(Bidirectional(LSTM(64, return_sequences=True)))\n",
    "\n",
    "# Cuarta capa LSTM con 64 unidades\n",
    "model.add(Bidirectional(LSTM(64, return_sequences=True)))\n",
    "model.add(Dropout(0.2))\n",
    "\n",
    "# Quinta capa LSTM con 64 unidades\n",
    "model.add(Bidirectional(LSTM(64)))\n",
    "#model.add(Dropout(0.5))\n",
    "\n",
    "# Capas densas\n",
    "model.add(Dense(128, activation='relu'))\n",
    "model.add(Dropout(0.3))\n",
    "model.add(Dense(64, activation='relu'))\n",
    "#model.add(Dropout(0.5))\n",
    "model.add(Dense(32, activation='relu'))\n",
    "model.add(Dense(16, activation='relu'))\n",
    "\n",
    "# Capa de salida\n",
    "model.add(Dense(vocab_size, activation='softmax'))\n",
    "model.compile(loss='categorical_crossentropy', optimizer='adam', metrics=['accuracy'])\n",
    "model.summary()"
   ]
  },
  {
   "cell_type": "code",
   "execution_count": 29,
   "id": "eb4c637a",
   "metadata": {},
   "outputs": [
    {
     "name": "stdout",
     "output_type": "stream",
     "text": [
      "Epoch 1/100\n",
      "152/152 [==============================] - 14s 27ms/step - loss: 6.2384 - accuracy: 0.0285 - val_loss: 6.6201 - val_accuracy: 0.0372\n",
      "Epoch 2/100\n",
      "152/152 [==============================] - 2s 14ms/step - loss: 5.5882 - accuracy: 0.0378 - val_loss: 6.9942 - val_accuracy: 0.0264\n",
      "Epoch 3/100\n",
      "152/152 [==============================] - 2s 13ms/step - loss: 5.4328 - accuracy: 0.0384 - val_loss: 7.2988 - val_accuracy: 0.0264\n",
      "Epoch 4/100\n",
      "152/152 [==============================] - 2s 13ms/step - loss: 5.3159 - accuracy: 0.0337 - val_loss: 7.4249 - val_accuracy: 0.0264\n",
      "Epoch 5/100\n",
      "152/152 [==============================] - 2s 13ms/step - loss: 5.2118 - accuracy: 0.0370 - val_loss: 7.8796 - val_accuracy: 0.0215\n",
      "Epoch 6/100\n",
      "152/152 [==============================] - 2s 13ms/step - loss: 5.1272 - accuracy: 0.0287 - val_loss: 8.3951 - val_accuracy: 0.0355\n",
      "Epoch 7/100\n",
      "152/152 [==============================] - 2s 12ms/step - loss: 5.0668 - accuracy: 0.0365 - val_loss: 8.5043 - val_accuracy: 0.0396\n",
      "Epoch 8/100\n",
      "152/152 [==============================] - 2s 12ms/step - loss: 5.0219 - accuracy: 0.0343 - val_loss: 8.7366 - val_accuracy: 0.0347\n",
      "Epoch 9/100\n",
      "152/152 [==============================] - 2s 13ms/step - loss: 4.9919 - accuracy: 0.0390 - val_loss: 9.0191 - val_accuracy: 0.0405\n",
      "Epoch 10/100\n",
      "152/152 [==============================] - 2s 12ms/step - loss: 4.9563 - accuracy: 0.0365 - val_loss: 9.1689 - val_accuracy: 0.0306\n",
      "Epoch 11/100\n",
      "152/152 [==============================] - 2s 14ms/step - loss: 4.9093 - accuracy: 0.0452 - val_loss: 9.9364 - val_accuracy: 0.0273\n",
      "Epoch 12/100\n",
      "152/152 [==============================] - 2s 13ms/step - loss: 4.8655 - accuracy: 0.0463 - val_loss: 10.3178 - val_accuracy: 0.0281\n",
      "Epoch 13/100\n",
      "152/152 [==============================] - 2s 13ms/step - loss: 4.8092 - accuracy: 0.0529 - val_loss: 10.2498 - val_accuracy: 0.0339\n",
      "Epoch 14/100\n",
      "152/152 [==============================] - 2s 13ms/step - loss: 4.7479 - accuracy: 0.0547 - val_loss: 11.0857 - val_accuracy: 0.0281\n",
      "Epoch 15/100\n",
      "152/152 [==============================] - 2s 14ms/step - loss: 4.6823 - accuracy: 0.0628 - val_loss: 10.7653 - val_accuracy: 0.0264\n",
      "Epoch 16/100\n",
      "152/152 [==============================] - 2s 14ms/step - loss: 4.5947 - accuracy: 0.0634 - val_loss: 11.5410 - val_accuracy: 0.0297\n",
      "Epoch 17/100\n",
      "152/152 [==============================] - 2s 13ms/step - loss: 4.5245 - accuracy: 0.0702 - val_loss: 11.7811 - val_accuracy: 0.0339\n",
      "Epoch 18/100\n",
      "152/152 [==============================] - 2s 13ms/step - loss: 4.4440 - accuracy: 0.0811 - val_loss: 11.2728 - val_accuracy: 0.0239\n",
      "Epoch 19/100\n",
      "152/152 [==============================] - 2s 14ms/step - loss: 4.3736 - accuracy: 0.0861 - val_loss: 10.9469 - val_accuracy: 0.0248\n",
      "Epoch 20/100\n",
      "152/152 [==============================] - 2s 13ms/step - loss: 4.2743 - accuracy: 0.0993 - val_loss: 12.3311 - val_accuracy: 0.0231\n",
      "Epoch 21/100\n",
      "152/152 [==============================] - 2s 13ms/step - loss: 4.2113 - accuracy: 0.1123 - val_loss: 12.4776 - val_accuracy: 0.0273\n",
      "Epoch 22/100\n",
      "152/152 [==============================] - 2s 14ms/step - loss: 4.1473 - accuracy: 0.1121 - val_loss: 11.9632 - val_accuracy: 0.0372\n",
      "Epoch 23/100\n",
      "152/152 [==============================] - 2s 14ms/step - loss: 4.0888 - accuracy: 0.1183 - val_loss: 13.6220 - val_accuracy: 0.0306\n",
      "Epoch 24/100\n",
      "152/152 [==============================] - 2s 14ms/step - loss: 4.0065 - accuracy: 0.1278 - val_loss: 13.7575 - val_accuracy: 0.0314\n",
      "Epoch 25/100\n",
      "152/152 [==============================] - 2s 13ms/step - loss: 3.9791 - accuracy: 0.1286 - val_loss: 13.9005 - val_accuracy: 0.0157\n",
      "Epoch 26/100\n",
      "152/152 [==============================] - 2s 14ms/step - loss: 3.9255 - accuracy: 0.1414 - val_loss: 14.1157 - val_accuracy: 0.0248\n",
      "Epoch 27/100\n",
      "152/152 [==============================] - 2s 14ms/step - loss: 3.8704 - accuracy: 0.1485 - val_loss: 14.7421 - val_accuracy: 0.0306\n",
      "Epoch 28/100\n",
      "152/152 [==============================] - 2s 13ms/step - loss: 3.8156 - accuracy: 0.1538 - val_loss: 15.0529 - val_accuracy: 0.0231\n",
      "Epoch 29/100\n",
      "152/152 [==============================] - 2s 14ms/step - loss: 3.7726 - accuracy: 0.1631 - val_loss: 15.3837 - val_accuracy: 0.0198\n",
      "Epoch 30/100\n",
      "152/152 [==============================] - 2s 14ms/step - loss: 3.7323 - accuracy: 0.1652 - val_loss: 15.5990 - val_accuracy: 0.0231\n",
      "Epoch 31/100\n",
      "152/152 [==============================] - 2s 13ms/step - loss: 3.6706 - accuracy: 0.1695 - val_loss: 14.7545 - val_accuracy: 0.0206\n",
      "Epoch 32/100\n",
      "152/152 [==============================] - 2s 13ms/step - loss: 3.6299 - accuracy: 0.1807 - val_loss: 17.0518 - val_accuracy: 0.0157\n",
      "Epoch 33/100\n",
      "152/152 [==============================] - 2s 13ms/step - loss: 3.6081 - accuracy: 0.1753 - val_loss: 16.0950 - val_accuracy: 0.0140\n",
      "Epoch 34/100\n",
      "152/152 [==============================] - 2s 13ms/step - loss: 3.5517 - accuracy: 0.1856 - val_loss: 17.7259 - val_accuracy: 0.0330\n",
      "Epoch 35/100\n",
      "152/152 [==============================] - 2s 13ms/step - loss: 3.5002 - accuracy: 0.1922 - val_loss: 17.9507 - val_accuracy: 0.0248\n",
      "Epoch 36/100\n",
      "152/152 [==============================] - 2s 14ms/step - loss: 3.4827 - accuracy: 0.1966 - val_loss: 17.1964 - val_accuracy: 0.0239\n",
      "Epoch 37/100\n",
      "152/152 [==============================] - 2s 15ms/step - loss: 3.4335 - accuracy: 0.2019 - val_loss: 17.8644 - val_accuracy: 0.0297\n",
      "Epoch 38/100\n",
      "152/152 [==============================] - 2s 14ms/step - loss: 3.3945 - accuracy: 0.2052 - val_loss: 17.9238 - val_accuracy: 0.0223\n",
      "Epoch 39/100\n",
      "152/152 [==============================] - 2s 14ms/step - loss: 3.3653 - accuracy: 0.2152 - val_loss: 17.9527 - val_accuracy: 0.0140\n",
      "Epoch 40/100\n",
      "152/152 [==============================] - 2s 14ms/step - loss: 3.3329 - accuracy: 0.2199 - val_loss: 19.9915 - val_accuracy: 0.0165\n",
      "Epoch 41/100\n",
      "152/152 [==============================] - 2s 15ms/step - loss: 3.2552 - accuracy: 0.2329 - val_loss: 20.6451 - val_accuracy: 0.0173\n",
      "Epoch 42/100\n",
      "152/152 [==============================] - 2s 14ms/step - loss: 3.2435 - accuracy: 0.2216 - val_loss: 19.8755 - val_accuracy: 0.0116\n",
      "Epoch 43/100\n",
      "152/152 [==============================] - 2s 14ms/step - loss: 3.1871 - accuracy: 0.2449 - val_loss: 21.5949 - val_accuracy: 0.0248\n",
      "Epoch 44/100\n",
      "152/152 [==============================] - 2s 15ms/step - loss: 3.1736 - accuracy: 0.2366 - val_loss: 19.5385 - val_accuracy: 0.0198\n",
      "Epoch 45/100\n",
      "152/152 [==============================] - 2s 15ms/step - loss: 3.1560 - accuracy: 0.2420 - val_loss: 20.4798 - val_accuracy: 0.0149\n",
      "Epoch 46/100\n",
      "152/152 [==============================] - 2s 14ms/step - loss: 3.1308 - accuracy: 0.2492 - val_loss: 21.1260 - val_accuracy: 0.0190\n",
      "Epoch 47/100\n",
      "152/152 [==============================] - 2s 14ms/step - loss: 3.0926 - accuracy: 0.2501 - val_loss: 20.7559 - val_accuracy: 0.0198\n",
      "Epoch 48/100\n",
      "152/152 [==============================] - 2s 14ms/step - loss: 3.0295 - accuracy: 0.2668 - val_loss: 21.6200 - val_accuracy: 0.0132\n",
      "Epoch 49/100\n",
      "152/152 [==============================] - 2s 14ms/step - loss: 2.9704 - accuracy: 0.2775 - val_loss: 22.7774 - val_accuracy: 0.0223\n",
      "Epoch 50/100\n",
      "152/152 [==============================] - 2s 14ms/step - loss: 2.9924 - accuracy: 0.2709 - val_loss: 22.0501 - val_accuracy: 0.0239\n",
      "Epoch 51/100\n",
      "152/152 [==============================] - 2s 14ms/step - loss: 2.9373 - accuracy: 0.2785 - val_loss: 23.2924 - val_accuracy: 0.0149\n",
      "Epoch 52/100\n",
      "152/152 [==============================] - 2s 14ms/step - loss: 2.9344 - accuracy: 0.2866 - val_loss: 22.6248 - val_accuracy: 0.0190\n",
      "Epoch 53/100\n",
      "152/152 [==============================] - 2s 14ms/step - loss: 2.8888 - accuracy: 0.2977 - val_loss: 22.9072 - val_accuracy: 0.0239\n",
      "Epoch 54/100\n",
      "152/152 [==============================] - 2s 14ms/step - loss: 2.8566 - accuracy: 0.2998 - val_loss: 22.7057 - val_accuracy: 0.0248\n",
      "Epoch 55/100\n",
      "152/152 [==============================] - 2s 15ms/step - loss: 2.8056 - accuracy: 0.3052 - val_loss: 22.6307 - val_accuracy: 0.0157\n",
      "Epoch 56/100\n",
      "152/152 [==============================] - 2s 15ms/step - loss: 2.8310 - accuracy: 0.3050 - val_loss: 22.7874 - val_accuracy: 0.0264\n",
      "Epoch 57/100\n",
      "152/152 [==============================] - 2s 14ms/step - loss: 2.7517 - accuracy: 0.3188 - val_loss: 24.1767 - val_accuracy: 0.0281\n",
      "Epoch 58/100\n",
      "152/152 [==============================] - 2s 13ms/step - loss: 2.7652 - accuracy: 0.3188 - val_loss: 23.2958 - val_accuracy: 0.0231\n",
      "Epoch 59/100\n",
      "152/152 [==============================] - 2s 14ms/step - loss: 2.7435 - accuracy: 0.3275 - val_loss: 24.4329 - val_accuracy: 0.0173\n",
      "Epoch 60/100\n",
      "152/152 [==============================] - 2s 14ms/step - loss: 2.7130 - accuracy: 0.3337 - val_loss: 24.0028 - val_accuracy: 0.0239\n",
      "Epoch 61/100\n",
      "152/152 [==============================] - 2s 14ms/step - loss: 2.6610 - accuracy: 0.3329 - val_loss: 24.9664 - val_accuracy: 0.0273\n",
      "Epoch 62/100\n",
      "152/152 [==============================] - 2s 14ms/step - loss: 2.6781 - accuracy: 0.3347 - val_loss: 25.0700 - val_accuracy: 0.0206\n",
      "Epoch 63/100\n",
      "152/152 [==============================] - 2s 13ms/step - loss: 2.6478 - accuracy: 0.3413 - val_loss: 24.7568 - val_accuracy: 0.0264\n",
      "Epoch 64/100\n",
      "152/152 [==============================] - 2s 13ms/step - loss: 2.6226 - accuracy: 0.3488 - val_loss: 25.5055 - val_accuracy: 0.0273\n",
      "Epoch 65/100\n",
      "152/152 [==============================] - 2s 13ms/step - loss: 2.6350 - accuracy: 0.3403 - val_loss: 23.8021 - val_accuracy: 0.0239\n",
      "Epoch 66/100\n",
      "152/152 [==============================] - 2s 14ms/step - loss: 2.5869 - accuracy: 0.3529 - val_loss: 26.5432 - val_accuracy: 0.0281\n",
      "Epoch 67/100\n",
      "152/152 [==============================] - 2s 14ms/step - loss: 2.5578 - accuracy: 0.3568 - val_loss: 25.1514 - val_accuracy: 0.0149\n",
      "Epoch 68/100\n",
      "152/152 [==============================] - 2s 14ms/step - loss: 2.5705 - accuracy: 0.3508 - val_loss: 24.2709 - val_accuracy: 0.0239\n",
      "Epoch 69/100\n",
      "152/152 [==============================] - 2s 14ms/step - loss: 2.5102 - accuracy: 0.3640 - val_loss: 24.9967 - val_accuracy: 0.0231\n",
      "Epoch 70/100\n",
      "152/152 [==============================] - 2s 15ms/step - loss: 2.5167 - accuracy: 0.3682 - val_loss: 25.3756 - val_accuracy: 0.0190\n",
      "Epoch 71/100\n",
      "152/152 [==============================] - 2s 14ms/step - loss: 2.4888 - accuracy: 0.3758 - val_loss: 25.3493 - val_accuracy: 0.0273\n",
      "Epoch 72/100\n",
      "152/152 [==============================] - 2s 15ms/step - loss: 2.4887 - accuracy: 0.3789 - val_loss: 25.3223 - val_accuracy: 0.0256\n",
      "Epoch 73/100\n",
      "152/152 [==============================] - 2s 15ms/step - loss: 2.4329 - accuracy: 0.3929 - val_loss: 25.8189 - val_accuracy: 0.0248\n",
      "Epoch 74/100\n",
      "152/152 [==============================] - 2s 14ms/step - loss: 2.4326 - accuracy: 0.3872 - val_loss: 25.2057 - val_accuracy: 0.0231\n",
      "Epoch 75/100\n",
      "152/152 [==============================] - 2s 14ms/step - loss: 2.4347 - accuracy: 0.3826 - val_loss: 25.3354 - val_accuracy: 0.0248\n",
      "Epoch 76/100\n",
      "152/152 [==============================] - 2s 14ms/step - loss: 2.3842 - accuracy: 0.3915 - val_loss: 26.6082 - val_accuracy: 0.0264\n",
      "Epoch 77/100\n",
      "152/152 [==============================] - 2s 14ms/step - loss: 2.3611 - accuracy: 0.3944 - val_loss: 27.8160 - val_accuracy: 0.0281\n",
      "Epoch 78/100\n",
      "152/152 [==============================] - 2s 14ms/step - loss: 2.4025 - accuracy: 0.3886 - val_loss: 26.2981 - val_accuracy: 0.0206\n",
      "Epoch 79/100\n",
      "152/152 [==============================] - 2s 14ms/step - loss: 2.3277 - accuracy: 0.4099 - val_loss: 26.9033 - val_accuracy: 0.0347\n",
      "Epoch 80/100\n",
      "152/152 [==============================] - 2s 14ms/step - loss: 2.3556 - accuracy: 0.4020 - val_loss: 26.2419 - val_accuracy: 0.0157\n",
      "Epoch 81/100\n",
      "152/152 [==============================] - 2s 14ms/step - loss: 2.3606 - accuracy: 0.4006 - val_loss: 28.1554 - val_accuracy: 0.0215\n",
      "Epoch 82/100\n",
      "152/152 [==============================] - 2s 14ms/step - loss: 2.3162 - accuracy: 0.4175 - val_loss: 27.4072 - val_accuracy: 0.0223\n",
      "Epoch 83/100\n",
      "152/152 [==============================] - 2s 13ms/step - loss: 2.3399 - accuracy: 0.4099 - val_loss: 24.6141 - val_accuracy: 0.0306\n",
      "Epoch 84/100\n",
      "152/152 [==============================] - 2s 14ms/step - loss: 2.2825 - accuracy: 0.4154 - val_loss: 27.6506 - val_accuracy: 0.0314\n",
      "Epoch 85/100\n",
      "152/152 [==============================] - 2s 14ms/step - loss: 2.2729 - accuracy: 0.4181 - val_loss: 29.1266 - val_accuracy: 0.0264\n",
      "Epoch 86/100\n",
      "152/152 [==============================] - 2s 14ms/step - loss: 2.2441 - accuracy: 0.4161 - val_loss: 28.2586 - val_accuracy: 0.0248\n",
      "Epoch 87/100\n",
      "152/152 [==============================] - 2s 14ms/step - loss: 2.2185 - accuracy: 0.4278 - val_loss: 28.0157 - val_accuracy: 0.0322\n",
      "Epoch 88/100\n",
      "152/152 [==============================] - 2s 14ms/step - loss: 2.2257 - accuracy: 0.4355 - val_loss: 27.8782 - val_accuracy: 0.0289\n",
      "Epoch 89/100\n",
      "152/152 [==============================] - 2s 13ms/step - loss: 2.1747 - accuracy: 0.4390 - val_loss: 29.2966 - val_accuracy: 0.0347\n",
      "Epoch 90/100\n",
      "152/152 [==============================] - 2s 13ms/step - loss: 2.1931 - accuracy: 0.4388 - val_loss: 30.6209 - val_accuracy: 0.0264\n",
      "Epoch 91/100\n",
      "152/152 [==============================] - 2s 14ms/step - loss: 2.1815 - accuracy: 0.4388 - val_loss: 28.2416 - val_accuracy: 0.0132\n",
      "Epoch 92/100\n",
      "152/152 [==============================] - 2s 14ms/step - loss: 2.2094 - accuracy: 0.4340 - val_loss: 28.1436 - val_accuracy: 0.0206\n",
      "Epoch 93/100\n",
      "152/152 [==============================] - 2s 14ms/step - loss: 2.2159 - accuracy: 0.4346 - val_loss: 28.7274 - val_accuracy: 0.0264\n",
      "Epoch 94/100\n",
      "152/152 [==============================] - 2s 13ms/step - loss: 2.1461 - accuracy: 0.4514 - val_loss: 29.2593 - val_accuracy: 0.0239\n",
      "Epoch 95/100\n",
      "152/152 [==============================] - 2s 13ms/step - loss: 2.1386 - accuracy: 0.4510 - val_loss: 29.6019 - val_accuracy: 0.0239\n",
      "Epoch 96/100\n",
      "152/152 [==============================] - 2s 14ms/step - loss: 2.1163 - accuracy: 0.4454 - val_loss: 30.0599 - val_accuracy: 0.0190\n",
      "Epoch 97/100\n",
      "152/152 [==============================] - 2s 14ms/step - loss: 2.0458 - accuracy: 0.4656 - val_loss: 31.5146 - val_accuracy: 0.0215\n",
      "Epoch 98/100\n",
      "152/152 [==============================] - 2s 14ms/step - loss: 2.0898 - accuracy: 0.4574 - val_loss: 32.5049 - val_accuracy: 0.0206\n",
      "Epoch 99/100\n",
      "152/152 [==============================] - 2s 14ms/step - loss: 2.0476 - accuracy: 0.4700 - val_loss: 31.9882 - val_accuracy: 0.0314\n",
      "Epoch 100/100\n",
      "152/152 [==============================] - 2s 14ms/step - loss: 2.0268 - accuracy: 0.4768 - val_loss: 32.9871 - val_accuracy: 0.0248\n"
     ]
    }
   ],
   "source": [
    "early_stop = EarlyStopping(\n",
    "    monitor='accuracy',\n",
    "    patience=10,\n",
    "    verbose=1,\n",
    "    restore_best_weights=True\n",
    ")\n",
    "\n",
    "hist = model.fit(x_data, y_data, epochs=100, validation_split=0.2, callbacks=[early_stop])"
   ]
  },
  {
   "cell_type": "code",
   "execution_count": 30,
   "id": "dd65efa8",
   "metadata": {},
   "outputs": [
    {
     "data": {
      "image/png": "[encoded data removed]",
      "text/plain": [
       "<Figure size 640x480 with 1 Axes>"
      ]
     },
     "metadata": {},
     "output_type": "display_data"
    }
   ],
   "source": [
    "epoch_count = range(1, len(hist.history['accuracy']) + 1)\n",
    "sns.lineplot(x=epoch_count,  y=hist.history['accuracy'], label='train')\n",
    "sns.lineplot(x=epoch_count,  y=hist.history['val_accuracy'], label='valid')\n",
    "plt.show()"
   ]
  },
  {
   "cell_type": "code",
   "execution_count": 31,
   "id": "4a772f6f",
   "metadata": {
    "scrolled": false
   },
   "outputs": [
    {
     "name": "stdout",
     "output_type": "stream",
     "text": [
      "Running on local URL:  http://127.0.0.1:7860\n",
      "\n",
      "To create a public link, set `share=True` in `launch()`.\n"
     ]
    },
    {
     "data": {
      "text/html": [
       "<div><iframe src=\"http://127.0.0.1:7860/\" width=\"100%\" height=\"500\" allow=\"autoplay; camera; microphone; clipboard-read; clipboard-write;\" frameborder=\"0\" allowfullscreen></iframe></div>"
      ],
      "text/plain": [
       "<IPython.core.display.HTML object>"
      ]
     },
     "metadata": {},
     "output_type": "display_data"
    },
    {
     "name": "stdout",
     "output_type": "stream",
     "text": [
      "1/1 [==============================] - 2s 2s/step\n",
      "1/1 [==============================] - 0s 13ms/step\n",
      "1/1 [==============================] - 0s 13ms/step\n",
      "1/1 [==============================] - 0s 14ms/step\n",
      "Keyboard interruption in main thread... closing server.\n"
     ]
    },
    {
     "data": {
      "text/plain": []
     },
     "execution_count": 31,
     "metadata": {},
     "output_type": "execute_result"
    }
   ],
   "source": [
    "import gradio as gr\n",
    "\n",
    "def model_response(human_text):\n",
    "\n",
    "    # Encodeamos\n",
    "    encoded = tok.texts_to_sequences([human_text])[0]\n",
    "    # Si tienen distinto largo\n",
    "    encoded = pad_sequences([encoded], maxlen=3, padding='pre')\n",
    "    \n",
    "    # Predicción softmax\n",
    "    y_hat = model.predict(encoded).argmax(axis=-1)\n",
    "\n",
    "    # Debemos buscar en el vocabulario la palabra\n",
    "    # que corresopnde al indice (y_hat) predicho por le modelo\n",
    "    out_word = ''\n",
    "    for word, index in tok.word_index.items():\n",
    "        if index == y_hat:\n",
    "            out_word = word\n",
    "            break\n",
    "\n",
    "    # Agrego la palabra a la frase predicha\n",
    "    return human_text + ' ' + out_word\n",
    "\n",
    "iface = gr.Interface(\n",
    "    fn=model_response,\n",
    "    inputs=[\"textbox\"],\n",
    "    outputs=\"text\",\n",
    "    layout=\"vertical\")\n",
    "\n",
    "iface.launch(debug=True)"
   ]
  },
  {
   "cell_type": "code",
   "execution_count": 38,
   "id": "7c83ade1",
   "metadata": {},
   "outputs": [],
   "source": [
    "def generate_seq(model, tokenizer, seed_text, max_length, n_words):\n",
    "    \"\"\"\n",
    "        Exec model sequence prediction\n",
    "\n",
    "        Args:\n",
    "            model (keras): modelo entrenado\n",
    "            tokenizer (keras tokenizer): tonenizer utilizado en el preprocesamiento\n",
    "            seed_text (string): texto de entrada (input_seq)\n",
    "            max_length (int): máxima longitud de la sequencia de entrada\n",
    "            n_words (int): números de palabras a agregar a la sequencia de entrada\n",
    "        returns:\n",
    "            output_text (string): sentencia con las \"n_words\" agregadas\n",
    "    \"\"\"\n",
    "    output_text = seed_text\n",
    "    # generate a fixed number of words\n",
    "    for _ in range(n_words):\n",
    "        # Encodeamos\n",
    "        encoded = tokenizer.texts_to_sequences([output_text])[0]\n",
    "        # Si tienen distinto largo\n",
    "        encoded = pad_sequences([encoded], maxlen=max_length, padding='pre')\n",
    "\n",
    "        # Predicción softmax\n",
    "        y_hat = model.predict(encoded).argmax(axis=-1)\n",
    "        # Vamos concatenando las predicciones\n",
    "        out_word = ''\n",
    "\n",
    "        # Debemos buscar en el vocabulario la palabra\n",
    "        # que corresopnde al indice (y_hat) predicho por le modelo\n",
    "        for word, index in tokenizer.word_index.items():\n",
    "            if index == y_hat:\n",
    "                out_word = word\n",
    "                break\n",
    "\n",
    "        # Agrego las palabras a la frase predicha\n",
    "        output_text += ' ' + out_word\n",
    "    return output_text"
   ]
  },
  {
   "cell_type": "code",
   "execution_count": 67,
   "id": "11486974",
   "metadata": {},
   "outputs": [
    {
     "name": "stdout",
     "output_type": "stream",
     "text": [
      "1/1 [==============================] - 0s 13ms/step\n"
     ]
    },
    {
     "data": {
      "text/plain": [
       "'No se puede vivir amor'"
      ]
     },
     "execution_count": 67,
     "metadata": {},
     "output_type": "execute_result"
    }
   ],
   "source": [
    "input_text='No se puede vivir'\n",
    "\n",
    "generate_seq(model, tok, input_text, max_length=4, n_words=1)"
   ]
  },
  {
   "cell_type": "code",
   "execution_count": 52,
   "id": "3d8fe358",
   "metadata": {},
   "outputs": [
    {
     "name": "stdout",
     "output_type": "stream",
     "text": [
      "1/1 [==============================] - 0s 14ms/step\n",
      "1/1 [==============================] - 0s 14ms/step\n"
     ]
    },
    {
     "data": {
      "text/plain": [
       "'yo soy un loco que'"
      ]
     },
     "execution_count": 52,
     "metadata": {},
     "output_type": "execute_result"
    }
   ],
   "source": [
    "input_text='yo soy un'\n",
    "\n",
    "generate_seq(model, tok, input_text, max_length=3, n_words=2)"
   ]
  },
  {
   "cell_type": "code",
   "execution_count": 63,
   "id": "7b1db18c",
   "metadata": {},
   "outputs": [],
   "source": [
    "# Funcionalidades para hacer encoding y decoding\n",
    "\n",
    "def encode(text,max_length=3):\n",
    "    encoded = tok.texts_to_sequences([text])[0]\n",
    "    encoded = pad_sequences([encoded], maxlen=max_length, padding='pre')\n",
    "    return encoded\n",
    "\n",
    "def decode(seq):\n",
    "    return tok.sequences_to_texts([seq])"
   ]
  },
  {
   "cell_type": "code",
   "execution_count": 123,
   "id": "1ab8f0f2",
   "metadata": {},
   "outputs": [],
   "source": [
    "# Función que selecciona candidatos para el beam search\n",
    "def select_candidates(pred,num_beams,vocab_size,history_probs,history_tokens,temp=2):\n",
    "\n",
    "    # colectar todas las probabilidades para la siguiente búsqueda\n",
    "    pred_large = []\n",
    "\n",
    "    for idx,pp in enumerate(pred):\n",
    "        pred_large.extend(np.log(pp+1E-10)+history_probs[idx])\n",
    "\n",
    "    pred_large = np.array(pred_large)\n",
    "\n",
    "    # criterio de selección\n",
    "    # idx_select = np.argsort(pred_large)[::-1][:num_beams] # beam search determinista\n",
    "    idx_select = np.random.choice(np.arange(pred_large.shape[0]), num_beams, p=softmax(pred_large/temp)) # beam search con muestreo\n",
    "\n",
    "    # traducir a índices de token en el vocabulario\n",
    "    new_history_tokens = np.concatenate((np.array(history_tokens)[idx_select//vocab_size],\n",
    "                        np.array([idx_select%vocab_size]).T),\n",
    "                      axis=1)\n",
    "\n",
    "    # devolver el producto de las probabilidades (log) y la secuencia de tokens seleccionados\n",
    "    return pred_large[idx_select.astype(int)], new_history_tokens.astype(int)\n",
    "\n",
    "\n",
    "def beam_search(model,num_beams,num_words,input):\n",
    "\n",
    "    # first iteration\n",
    "\n",
    "    # encode\n",
    "    encoded = encode(input)\n",
    "\n",
    "    # first prediction\n",
    "    y_hat = np.squeeze(model.predict(encoded))\n",
    "\n",
    "    # get vocabulary size\n",
    "    vocab_size = y_hat.shape[0] \n",
    "\n",
    "    # initialize history\n",
    "    history_probs = [0]*num_beams\n",
    "    history_tokens = [encoded[0]]*num_beams\n",
    "\n",
    "    # select num_beams candidates\n",
    "    history_probs, history_tokens = select_candidates([y_hat],\n",
    "                                        num_beams,\n",
    "                                        vocab_size,\n",
    "                                        history_probs,\n",
    "                                        history_tokens) \n",
    "\n",
    "    # beam search loop\n",
    "    for i in range(num_words-1):\n",
    "\n",
    "        preds = []\n",
    "\n",
    "        for hist in history_tokens:\n",
    "\n",
    "        # actualizar secuencia de tokens\n",
    "            input_update = np.array([hist[i+1:]]).copy()\n",
    "\n",
    "        # predicción\n",
    "            y_hat = np.squeeze(model.predict(input_update)) \n",
    "\n",
    "            preds.append(y_hat)\n",
    "\n",
    "        history_probs, history_tokens = select_candidates(preds,\n",
    "                                                        num_beams,\n",
    "                                                        vocab_size,\n",
    "                                                        history_probs,\n",
    "                                                        history_tokens) \n",
    "\n",
    "    return history_tokens"
   ]
  },
  {
   "cell_type": "code",
   "execution_count": 135,
   "id": "7287dd5f",
   "metadata": {},
   "outputs": [
    {
     "name": "stdout",
     "output_type": "stream",
     "text": [
      "1/1 [==============================] - 0s 14ms/step\n",
      "1/1 [==============================] - 0s 13ms/step\n",
      "1/1 [==============================] - 0s 13ms/step\n",
      "1/1 [==============================] - 0s 13ms/step\n",
      "1/1 [==============================] - 0s 14ms/step\n",
      "1/1 [==============================] - 0s 13ms/step\n",
      "1/1 [==============================] - 0s 13ms/step\n",
      "1/1 [==============================] - 0s 14ms/step\n",
      "1/1 [==============================] - 0s 14ms/step\n",
      "1/1 [==============================] - 0s 14ms/step\n",
      "1/1 [==============================] - 0s 15ms/step\n",
      "1/1 [==============================] - 0s 15ms/step\n",
      "1/1 [==============================] - 0s 14ms/step\n",
      "1/1 [==============================] - 0s 13ms/step\n",
      "1/1 [==============================] - 0s 15ms/step\n",
      "1/1 [==============================] - 0s 14ms/step\n",
      "1/1 [==============================] - 0s 14ms/step\n",
      "1/1 [==============================] - 0s 13ms/step\n",
      "1/1 [==============================] - 0s 13ms/step\n",
      "1/1 [==============================] - 0s 13ms/step\n",
      "1/1 [==============================] - 0s 14ms/step\n",
      "1/1 [==============================] - 0s 14ms/step\n",
      "1/1 [==============================] - 0s 13ms/step\n",
      "1/1 [==============================] - 0s 14ms/step\n",
      "1/1 [==============================] - 0s 14ms/step\n",
      "1/1 [==============================] - 0s 15ms/step\n",
      "1/1 [==============================] - 0s 14ms/step\n",
      "1/1 [==============================] - 0s 15ms/step\n",
      "1/1 [==============================] - 0s 16ms/step\n",
      "1/1 [==============================] - 0s 16ms/step\n",
      "1/1 [==============================] - 0s 14ms/step\n"
     ]
    },
    {
     "data": {
      "text/plain": [
       "['quiero ser el único que dijo vientos']"
      ]
     },
     "execution_count": 135,
     "metadata": {},
     "output_type": "execute_result"
    }
   ],
   "source": [
    "# Predicción con beam search\n",
    "salidas = beam_search(model,num_beams=10, num_words=4, input=\"quiero ser el\")\n",
    "decode(salidas[0])"
   ]
  },
  {
   "cell_type": "markdown",
   "id": "c167616b",
   "metadata": {},
   "source": [
    "### Conclusiones:"
   ]
  },
  {
   "cell_type": "markdown",
   "id": "73c31364",
   "metadata": {},
   "source": [
    "Se logró desarrollar un predictor de palabra siguiente, y así formar una secuencia más larga de palabras. Sin embargo, este no tiene tanta precisión, sobre todo en la validación.\n",
    "\n",
    "Si bien es cierto, los resultados no fueron los mejores, aún así se pudo demostrar la funcionalidad del modelo.\n",
    "Por ejemplo, usando la función 'generate_seq' con la secuencia 'No se puede vivir', se obtuvo una salida ''No se puede vivir amor', lo cual sí tiene bastante sentido, ya que la letra de la canción dice 'No se puede vivir del amor'. Así que si bien es cierto, no se obtuvo ser fiel al 100% a la letra, sí se consiguió que la palabra predicha sí guarde relación con la letra de la canción.\n",
    "\n",
    "Luego cuando se quiso predecir 2 palabras, se usó la entrada 'yo soy un', se obtuvo como salida 'yo soy un loco que', lo cual es tal cual la letra original de la canción la cual es 'yo soy un loco que se dio cuenta'\n",
    "\n",
    "Por último, al hacer la predicción con la función 'beam_search', se predijeron las 3 palabra siguientes. Se usó como input 'quiero ser el' y se esperaba obtener algo parecido a la letra 'quiero ser el único que te muerda la boca'. Y si bien es cierto no se obtuvo tal cual esa letra, sí se consiguieron las 2 palabras siguientes 'único que', pero luego se obtuvieron palabras que no guardaban relación con la letra de la canción."
   ]
  },
  {
   "cell_type": "code",
   "execution_count": null,
   "id": "c31b5fbe",
   "metadata": {},
   "outputs": [],
   "source": []
  }
 ],
 "metadata": {
  "kernelspec": {
   "display_name": "Python 3 (ipykernel)",
   "language": "python",
   "name": "python3"
  },
  "language_info": {
   "codemirror_mode": {
    "name": "ipython",
    "version": 3
   },
   "file_extension": ".py",
   "mimetype": "text/x-python",
   "name": "python",
   "nbconvert_exporter": "python",
   "pygments_lexer": "ipython3",
   "version": "3.9.13"
  }
 },
 "nbformat": 4,
 "nbformat_minor": 5
}
